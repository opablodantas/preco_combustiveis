{
 "cells": [
  {
   "cell_type": "markdown",
   "metadata": {},
   "source": [
    "# Preços de Combustíveis - Dados históricos\n",
    "\n",
    "Em cumprimento às determinações da Lei do Petróleo (Lei nº 9478/1997, artigo 8º), a ANP acompanha os preços praticados por revendedores de combustíveis automotivos e de gás liquefeito de petróleo envasilhado em botijões de 13 quilos (GLP P13), por meio de uma pesquisa semanal de preços realizada por empresa contratada.\n",
    "\n",
    "\n",
    "#### Organização\n",
    "Agência Nacional do Petróleo, Gás Natural e Biocombustíveis (ANP)\n",
    "\n",
    "#### Cobertura temporal\n",
    "2004 - 2021"
   ]
  },
  {
   "cell_type": "markdown",
   "metadata": {},
   "source": [
    "#### Descrição\n",
    "Série Histórica de Preços de Combustíveis - a saber, gasolina, gasolina aditivada, etanol, diesel s10, diesel, gnv e glp - com base na pesquisa de preços da Agência Nacional do Petróleo, Gás Natural e Biocombustíveis realizada a partir da primeira semana de 2004 até os dias de hoje.\n",
    "\n",
    "Fonte: https://basedosdados.org/dataset/br-anp-precos-combustiveis?bdm_table=microdados"
   ]
  },
  {
   "cell_type": "code",
   "execution_count": 1,
   "metadata": {},
   "outputs": [],
   "source": [
    "# Importando os pacotes necessários\n",
    "import basedosdados as bd\n",
    "import numpy as np\n",
    "import pandas as pd\n",
    "import seaborn as sns\n",
    "import matplotlib\n",
    "import matplotlib.pyplot as plt\n",
    "import squarify\n",
    "\n",
    "%matplotlib inline\n",
    "sns.set_palette('Greens_r')"
   ]
  },
  {
   "cell_type": "code",
   "execution_count": 2,
   "metadata": {
    "scrolled": true
   },
   "outputs": [
    {
     "name": "stderr",
     "output_type": "stream",
     "text": [
      "Downloading: 100%|███████████████████████████████████████████████████████| 2000000/2000000 [10:18<00:00, 3233.28rows/s]\n"
     ]
    }
   ],
   "source": [
    "# Para carregar os dados direto no pandas\n",
    "df = bd.read_table(dataset_id='br_anp_precos_combustiveis',\n",
    "table_id='microdados',\n",
    "billing_project_id=\"base-dados-org\", limit= 2000000)"
   ]
  },
  {
   "cell_type": "markdown",
   "metadata": {},
   "source": [
    "Infelizmente, terei que limitar a quantidade de dados à serem analisados, pois é um dataset muito grande e minha máquina não o suporta devido as suas limitações, então serão usados 2 milhões de registros "
   ]
  },
  {
   "cell_type": "code",
   "execution_count": 3,
   "metadata": {},
   "outputs": [
    {
     "data": {
      "text/plain": [
       "ano                       Int64\n",
       "sigla_uf                 object\n",
       "id_municipio             object\n",
       "bairro_revenda           object\n",
       "cep_revenda              object\n",
       "endereco_revenda         object\n",
       "cnpj_revenda             object\n",
       "nome_estabelecimento     object\n",
       "bandeira_revenda         object\n",
       "data_coleta              dbdate\n",
       "produto                  object\n",
       "unidade_medida           object\n",
       "preco_compra            float64\n",
       "preco_venda             float64\n",
       "dtype: object"
      ]
     },
     "execution_count": 3,
     "metadata": {},
     "output_type": "execute_result"
    }
   ],
   "source": [
    "# Vendo o tipo dos dados \n",
    "df.dtypes"
   ]
  },
  {
   "cell_type": "code",
   "execution_count": 4,
   "metadata": {
    "scrolled": true
   },
   "outputs": [
    {
     "data": {
      "text/plain": [
       "ano                        12\n",
       "sigla_uf                   27\n",
       "id_municipio              815\n",
       "bairro_revenda          16802\n",
       "cep_revenda             33629\n",
       "endereco_revenda        60100\n",
       "cnpj_revenda            63096\n",
       "nome_estabelecimento    56009\n",
       "bandeira_revenda          208\n",
       "data_coleta               276\n",
       "produto                     7\n",
       "unidade_medida              3\n",
       "preco_compra            48628\n",
       "preco_venda              4653\n",
       "dtype: int64"
      ]
     },
     "execution_count": 4,
     "metadata": {},
     "output_type": "execute_result"
    }
   ],
   "source": [
    "# Vamos agora observar quantos valores unicos há em cada coluna \n",
    "df.nunique()"
   ]
  },
  {
   "cell_type": "code",
   "execution_count": 5,
   "metadata": {
    "scrolled": true
   },
   "outputs": [
    {
     "data": {
      "text/html": [
       "<div>\n",
       "<style scoped>\n",
       "    .dataframe tbody tr th:only-of-type {\n",
       "        vertical-align: middle;\n",
       "    }\n",
       "\n",
       "    .dataframe tbody tr th {\n",
       "        vertical-align: top;\n",
       "    }\n",
       "\n",
       "    .dataframe thead th {\n",
       "        text-align: right;\n",
       "    }\n",
       "</style>\n",
       "<table border=\"1\" class=\"dataframe\">\n",
       "  <thead>\n",
       "    <tr style=\"text-align: right;\">\n",
       "      <th></th>\n",
       "      <th>ano</th>\n",
       "      <th>sigla_uf</th>\n",
       "      <th>id_municipio</th>\n",
       "      <th>bairro_revenda</th>\n",
       "      <th>cep_revenda</th>\n",
       "      <th>endereco_revenda</th>\n",
       "      <th>cnpj_revenda</th>\n",
       "      <th>nome_estabelecimento</th>\n",
       "      <th>bandeira_revenda</th>\n",
       "      <th>data_coleta</th>\n",
       "      <th>produto</th>\n",
       "      <th>unidade_medida</th>\n",
       "      <th>preco_compra</th>\n",
       "      <th>preco_venda</th>\n",
       "    </tr>\n",
       "  </thead>\n",
       "  <tbody>\n",
       "    <tr>\n",
       "      <th>1999997</th>\n",
       "      <td>2020</td>\n",
       "      <td>MG</td>\n",
       "      <td>3127107</td>\n",
       "      <td>IPE AMARELO</td>\n",
       "      <td>38200-000</td>\n",
       "      <td>AVENIDA PRESIDENTE JUSCELINO KUBITSCHEK,1122</td>\n",
       "      <td>25.557.208/0001-37</td>\n",
       "      <td>AUTO POSTO SIQUEIRA LTDA - EPP</td>\n",
       "      <td>BRANCA</td>\n",
       "      <td>2020-02-19</td>\n",
       "      <td>diesel s10</td>\n",
       "      <td>R$/litro</td>\n",
       "      <td>NaN</td>\n",
       "      <td>3.959</td>\n",
       "    </tr>\n",
       "    <tr>\n",
       "      <th>1999998</th>\n",
       "      <td>2020</td>\n",
       "      <td>RS</td>\n",
       "      <td>4314100</td>\n",
       "      <td>CENTRO</td>\n",
       "      <td>99010-070</td>\n",
       "      <td>RUA FAGUNDES DOS REIS,125</td>\n",
       "      <td>07.473.735/0108-10</td>\n",
       "      <td>SIM REDE DE POSTOS LTDA</td>\n",
       "      <td>PETROBRAS DISTRIBUIDORA S.A.</td>\n",
       "      <td>2020-02-19</td>\n",
       "      <td>diesel s10</td>\n",
       "      <td>R$/litro</td>\n",
       "      <td>NaN</td>\n",
       "      <td>3.789</td>\n",
       "    </tr>\n",
       "    <tr>\n",
       "      <th>1999999</th>\n",
       "      <td>2020</td>\n",
       "      <td>PE</td>\n",
       "      <td>2616407</td>\n",
       "      <td>ZONA RURAL</td>\n",
       "      <td>55602-000</td>\n",
       "      <td>RODOVIA LUIZ GONZAGA,S/N BR-232               ...</td>\n",
       "      <td>20.379.786/0001-07</td>\n",
       "      <td>AUTO POSTO ROTA 232 LTDA</td>\n",
       "      <td>BRANCA</td>\n",
       "      <td>2020-02-19</td>\n",
       "      <td>diesel s10</td>\n",
       "      <td>R$/litro</td>\n",
       "      <td>NaN</td>\n",
       "      <td>3.568</td>\n",
       "    </tr>\n",
       "  </tbody>\n",
       "</table>\n",
       "</div>"
      ],
      "text/plain": [
       "          ano sigla_uf id_municipio bairro_revenda cep_revenda  \\\n",
       "1999997  2020       MG      3127107    IPE AMARELO   38200-000   \n",
       "1999998  2020       RS      4314100         CENTRO   99010-070   \n",
       "1999999  2020       PE      2616407     ZONA RURAL   55602-000   \n",
       "\n",
       "                                          endereco_revenda  \\\n",
       "1999997      AVENIDA PRESIDENTE JUSCELINO KUBITSCHEK,1122    \n",
       "1999998                         RUA FAGUNDES DOS REIS,125    \n",
       "1999999  RODOVIA LUIZ GONZAGA,S/N BR-232               ...   \n",
       "\n",
       "                cnpj_revenda            nome_estabelecimento  \\\n",
       "1999997   25.557.208/0001-37  AUTO POSTO SIQUEIRA LTDA - EPP   \n",
       "1999998   07.473.735/0108-10         SIM REDE DE POSTOS LTDA   \n",
       "1999999   20.379.786/0001-07        AUTO POSTO ROTA 232 LTDA   \n",
       "\n",
       "                     bandeira_revenda data_coleta     produto unidade_medida  \\\n",
       "1999997                        BRANCA  2020-02-19  diesel s10       R$/litro   \n",
       "1999998  PETROBRAS DISTRIBUIDORA S.A.  2020-02-19  diesel s10       R$/litro   \n",
       "1999999                        BRANCA  2020-02-19  diesel s10       R$/litro   \n",
       "\n",
       "         preco_compra  preco_venda  \n",
       "1999997           NaN        3.959  \n",
       "1999998           NaN        3.789  \n",
       "1999999           NaN        3.568  "
      ]
     },
     "execution_count": 5,
     "metadata": {},
     "output_type": "execute_result"
    }
   ],
   "source": [
    "# Visualizando as ultimas 3 linhas\n",
    "df.tail(3)"
   ]
  },
  {
   "cell_type": "code",
   "execution_count": 6,
   "metadata": {},
   "outputs": [
    {
     "data": {
      "text/plain": [
       "ano                           0\n",
       "sigla_uf                      0\n",
       "id_municipio                  0\n",
       "bairro_revenda             5292\n",
       "cep_revenda                   0\n",
       "endereco_revenda              0\n",
       "cnpj_revenda                  0\n",
       "nome_estabelecimento          0\n",
       "bandeira_revenda              0\n",
       "data_coleta                   0\n",
       "produto                       0\n",
       "unidade_medida                0\n",
       "preco_compra            1067707\n",
       "preco_venda                   0\n",
       "dtype: int64"
      ]
     },
     "execution_count": 6,
     "metadata": {},
     "output_type": "execute_result"
    }
   ],
   "source": [
    "# Verificando a quantidade de valores nulos \n",
    "df.isna().sum()"
   ]
  },
  {
   "cell_type": "code",
   "execution_count": 7,
   "metadata": {
    "scrolled": true
   },
   "outputs": [
    {
     "data": {
      "text/plain": [
       "ano                      0.00000\n",
       "sigla_uf                 0.00000\n",
       "id_municipio             0.00000\n",
       "bairro_revenda           0.26460\n",
       "cep_revenda              0.00000\n",
       "endereco_revenda         0.00000\n",
       "cnpj_revenda             0.00000\n",
       "nome_estabelecimento     0.00000\n",
       "bandeira_revenda         0.00000\n",
       "data_coleta              0.00000\n",
       "produto                  0.00000\n",
       "unidade_medida           0.00000\n",
       "preco_compra            53.38535\n",
       "preco_venda              0.00000\n",
       "dtype: float64"
      ]
     },
     "execution_count": 7,
     "metadata": {},
     "output_type": "execute_result"
    }
   ],
   "source": [
    "# Verificando a porcentagem de valores nulos por coluna \n",
    "df.apply(lambda x:100 * sum(x.isnull()/len(df)))"
   ]
  },
  {
   "cell_type": "markdown",
   "metadata": {},
   "source": [
    "Como podemos ser visto acima, não há muito valores ausentes. Há casos de colunas com 25% de valores ausentes e há um caso extremo de coluna com mais de 50% de seus registros ausentes. Algo terá que ser feito"
   ]
  },
  {
   "cell_type": "code",
   "execution_count": 8,
   "metadata": {
    "scrolled": true
   },
   "outputs": [],
   "source": [
    "# E o que faremos com a coluna que tem mais de 50% de valores NA é removê-la, pois eu acredito que não há utilidade em manter uma váriavel que esteja com mais de 45% dos dados ausentes\n",
    "df.drop('preco_compra', inplace= True, axis = 1)"
   ]
  },
  {
   "cell_type": "code",
   "execution_count": 9,
   "metadata": {
    "scrolled": true
   },
   "outputs": [
    {
     "data": {
      "text/plain": [
       "Index(['ano', 'sigla_uf', 'id_municipio', 'bairro_revenda', 'cep_revenda',\n",
       "       'endereco_revenda', 'cnpj_revenda', 'nome_estabelecimento',\n",
       "       'bandeira_revenda', 'data_coleta', 'produto', 'unidade_medida',\n",
       "       'preco_venda'],\n",
       "      dtype='object')"
      ]
     },
     "execution_count": 9,
     "metadata": {},
     "output_type": "execute_result"
    }
   ],
   "source": [
    "# Observando se a coluna foi devidamente removida\n",
    "df.columns"
   ]
  },
  {
   "cell_type": "markdown",
   "metadata": {},
   "source": [
    " Agora vamos criar uma coluna REGIAO pois pode ser interessante compararmos as variáveis em nível de REGIÃO, não somente por estado.\n",
    "\n"
   ]
  },
  {
   "cell_type": "code",
   "execution_count": 10,
   "metadata": {},
   "outputs": [],
   "source": [
    "# Primeiramente vamos criar listas que contém as sigla dos estados\n",
    "norte = ['RR','AP','AM','PA','AC','RO','TO']\n",
    "nordeste = ['MA','PI','CE','RN','PB','PE','AL','SE','BA']\n",
    "sudeste = ['SP','MG','RG','ES']\n",
    "sul = ['PR','SC','RS']\n",
    "centroOeste = ['MT','DF','GO','MS']"
   ]
  },
  {
   "cell_type": "code",
   "execution_count": 11,
   "metadata": {},
   "outputs": [],
   "source": [
    "# Agora vamos criar uma função, onde se a Unidade Federativa estiver em tal região\n",
    "# A função vai retornar a região respectiva\n",
    "\n",
    "def add_Regiao(uf):\n",
    "    if uf in norte:        \n",
    "        return 'Norte'\n",
    "    if uf in nordeste:        \n",
    "        return 'Nordeste'\n",
    "    if uf in centroOeste:        \n",
    "        return 'Centro-Oeste'\n",
    "    if uf in sul:        \n",
    "        return 'Sul'\n",
    "    if uf in sudeste:        \n",
    "        return 'Sudeste'"
   ]
  },
  {
   "cell_type": "code",
   "execution_count": 12,
   "metadata": {},
   "outputs": [
    {
     "data": {
      "text/plain": [
       "1999995    Nordeste\n",
       "1999996    Nordeste\n",
       "1999997     Sudeste\n",
       "1999998         Sul\n",
       "1999999    Nordeste\n",
       "Name: Regiao, dtype: object"
      ]
     },
     "execution_count": 12,
     "metadata": {},
     "output_type": "execute_result"
    }
   ],
   "source": [
    "# Agora vamos usar a função map para aplicar a nossa função criada acima e consequentemente criar aa coluna Regiao\n",
    "df['Regiao'] = df['sigla_uf'].map(add_Regiao)\n",
    "df['Regiao'].tail()"
   ]
  },
  {
   "cell_type": "markdown",
   "metadata": {},
   "source": [
    "## Figuras que mostrem insights sobre os dados "
   ]
  },
  {
   "cell_type": "code",
   "execution_count": 13,
   "metadata": {
    "scrolled": true
   },
   "outputs": [],
   "source": [
    "# Definindo a paleta de cores para o treemap\n",
    "cmap = matplotlib.cm.Greens\n",
    "mini = min(df.sigla_uf.value_counts())\n",
    "maxi = max(df.sigla_uf.value_counts())\n",
    "norm = matplotlib.colors.Normalize(vmin=mini, vmax=maxi)\n",
    "colors = [cmap(norm(i)) for i in df.sigla_uf.value_counts()]"
   ]
  },
  {
   "cell_type": "code",
   "execution_count": 14,
   "metadata": {},
   "outputs": [
    {
     "data": {
      "image/png": "[encoded data removed]",
      "text/plain": [
       "<Figure size 864x432 with 1 Axes>"
      ]
     },
     "metadata": {
      "needs_background": "light"
     },
     "output_type": "display_data"
    }
   ],
   "source": [
    "# Definindo o tamanho da figura\n",
    "plt.figure(figsize=(12,6))\n",
    "\n",
    "# Fazendo o Treemap\n",
    "squarify.plot(sizes=df.produto.value_counts(), label=df.produto.value_counts().index,\n",
    "              color=colors, pad=True, alpha=0.6, text_kwargs={'fontsize': 12});\n",
    "\n",
    "# Adicionando um título\n",
    "plt.title('Comparativo da quantidade de registros por Tipo de Combustível', fontsize=20)\n",
    "\n",
    "# Removendo os eixos\n",
    "plt.axis('off');\n",
    "\n",
    "# Ajustando o gráfico\n",
    "plt.tight_layout()\n"
   ]
  },
  {
   "cell_type": "markdown",
   "metadata": {},
   "source": [
    "Como podemos ver no gráfico acima, a maior parte dos registros é da gasolina, seguida de perto do etanol que são os 2 combutíveis mais usados em veículos, em seguida temos o GLP, mais conhecido como gás de cozinha, também temos o diesel comum (S-500) com teor de enxofre de 500 ppm, e o S-10 com teor máximo de 10 ppm. Há também o GNV (que normalmente é mais econômico), gasolina aditivada que ajudam a manter limpo o sistema de alimentação do veículo e diesel s50, onde a ANP aprovou o seu fim com pouco tempo para consumo no Brasil"
   ]
  },
  {
   "cell_type": "code",
   "execution_count": 15,
   "metadata": {
    "scrolled": true
   },
   "outputs": [
    {
     "data": {
      "text/plain": [
       "gasolina      26.84760\n",
       "etanol        24.86960\n",
       "diesel        20.42265\n",
       "glp           20.23055\n",
       "diesel s10     6.04200\n",
       "gnv            1.48110\n",
       "diesel s50     0.10650\n",
       "Name: produto, dtype: float64"
      ]
     },
     "execution_count": 15,
     "metadata": {},
     "output_type": "execute_result"
    }
   ],
   "source": [
    "# Porcentagem de Registros pelo tipo de Produto\n",
    "df.produto.value_counts() / len(df) * 100"
   ]
  },
  {
   "cell_type": "code",
   "execution_count": 16,
   "metadata": {},
   "outputs": [
    {
     "data": {
      "text/plain": [
       "<AxesSubplot:title={'center':'Porcentagem de Registro por Região'}, ylabel='Regiao'>"
      ]
     },
     "execution_count": 16,
     "metadata": {},
     "output_type": "execute_result"
    },
    {
     "data": {
      "image/png": "[encoded data removed]",
      "text/plain": [
       "<Figure size 864x432 with 1 Axes>"
      ]
     },
     "metadata": {},
     "output_type": "display_data"
    }
   ],
   "source": [
    "plt.title('Porcentagem de Registro por Região')\n",
    "(df.Regiao.value_counts()/len(df)*100).sort_values().plot(kind=\"pie\", autopct='%1.0f%%', figsize = (12,6))"
   ]
  },
  {
   "cell_type": "markdown",
   "metadata": {},
   "source": [
    "A região Sudeste é a região onde há mais quantidade, o que normal, pois é a região onde se concentra a maioria das riquezas do país."
   ]
  },
  {
   "cell_type": "code",
   "execution_count": 17,
   "metadata": {
    "scrolled": false
   },
   "outputs": [
    {
     "data": {
      "text/plain": [
       "ano   Regiao      \n",
       "2004  Centro-Oeste     6.349096\n",
       "      Nordeste         5.355745\n",
       "      Norte            7.765713\n",
       "      Sudeste          5.170747\n",
       "      Sul              6.227395\n",
       "2005  Centro-Oeste     7.113885\n",
       "      Nordeste         5.296420\n",
       "      Norte            8.547003\n",
       "      Sudeste          5.502399\n",
       "      Sul              7.074730\n",
       "2006  Centro-Oeste     6.769716\n",
       "      Nordeste         5.734427\n",
       "      Norte           10.626259\n",
       "      Sudeste          6.581612\n",
       "      Sul              6.361407\n",
       "2008  Centro-Oeste    13.291110\n",
       "      Nordeste         7.736259\n",
       "      Norte           11.869757\n",
       "      Sudeste          9.264393\n",
       "      Sul             10.910364\n",
       "2009  Centro-Oeste    13.072946\n",
       "      Nordeste         7.977191\n",
       "      Norte           11.742931\n",
       "      Sudeste          9.504419\n",
       "      Sul             11.133109\n",
       "2010  Centro-Oeste    13.851254\n",
       "      Nordeste         8.235277\n",
       "      Norte           11.746173\n",
       "      Sudeste         10.003578\n",
       "      Sul             11.861944\n",
       "2012  Centro-Oeste    15.944362\n",
       "      Nordeste         9.317068\n",
       "      Norte           13.939839\n",
       "      Sudeste         11.028248\n",
       "      Sul             12.612969\n",
       "2013  Centro-Oeste    16.730997\n",
       "      Nordeste         9.930452\n",
       "      Norte           15.549343\n",
       "      Sudeste         11.346285\n",
       "      Sul             12.892412\n",
       "2014  Centro-Oeste    16.226521\n",
       "      Nordeste        10.713085\n",
       "      Norte           15.973845\n",
       "      Sudeste         11.629691\n",
       "      Sul             12.783233\n",
       "2018  Centro-Oeste    19.216523\n",
       "      Nordeste        13.705389\n",
       "      Norte           24.043298\n",
       "      Sudeste         14.563395\n",
       "      Sul             17.824683\n",
       "2019  Centro-Oeste    18.797854\n",
       "      Nordeste        14.235414\n",
       "      Norte           23.770501\n",
       "      Sudeste         14.760153\n",
       "      Sul             18.440588\n",
       "2020  Centro-Oeste    19.275008\n",
       "      Nordeste        14.861292\n",
       "      Norte           24.898795\n",
       "      Sudeste         15.404832\n",
       "      Sul             18.108940\n",
       "Name: preco_venda, dtype: float64"
      ]
     },
     "execution_count": 17,
     "metadata": {},
     "output_type": "execute_result"
    }
   ],
   "source": [
    "mean_comb_per_regiao = df.groupby(['ano','Regiao']).preco_venda.mean()\n",
    "mean_comb_per_regiao"
   ]
  },
  {
   "cell_type": "code",
   "execution_count": 18,
   "metadata": {},
   "outputs": [
    {
     "data": {
      "text/html": [
       "<div>\n",
       "<style scoped>\n",
       "    .dataframe tbody tr th:only-of-type {\n",
       "        vertical-align: middle;\n",
       "    }\n",
       "\n",
       "    .dataframe tbody tr th {\n",
       "        vertical-align: top;\n",
       "    }\n",
       "\n",
       "    .dataframe thead th {\n",
       "        text-align: right;\n",
       "    }\n",
       "</style>\n",
       "<table border=\"1\" class=\"dataframe\">\n",
       "  <thead>\n",
       "    <tr style=\"text-align: right;\">\n",
       "      <th>Regiao</th>\n",
       "      <th>Centro-Oeste</th>\n",
       "      <th>Nordeste</th>\n",
       "      <th>Norte</th>\n",
       "      <th>Sudeste</th>\n",
       "      <th>Sul</th>\n",
       "    </tr>\n",
       "    <tr>\n",
       "      <th>ano</th>\n",
       "      <th></th>\n",
       "      <th></th>\n",
       "      <th></th>\n",
       "      <th></th>\n",
       "      <th></th>\n",
       "    </tr>\n",
       "  </thead>\n",
       "  <tbody>\n",
       "    <tr>\n",
       "      <th>2004</th>\n",
       "      <td>6.349096</td>\n",
       "      <td>5.355745</td>\n",
       "      <td>7.765713</td>\n",
       "      <td>5.170747</td>\n",
       "      <td>6.227395</td>\n",
       "    </tr>\n",
       "    <tr>\n",
       "      <th>2005</th>\n",
       "      <td>7.113885</td>\n",
       "      <td>5.296420</td>\n",
       "      <td>8.547003</td>\n",
       "      <td>5.502399</td>\n",
       "      <td>7.074730</td>\n",
       "    </tr>\n",
       "    <tr>\n",
       "      <th>2006</th>\n",
       "      <td>6.769716</td>\n",
       "      <td>5.734427</td>\n",
       "      <td>10.626259</td>\n",
       "      <td>6.581612</td>\n",
       "      <td>6.361407</td>\n",
       "    </tr>\n",
       "    <tr>\n",
       "      <th>2008</th>\n",
       "      <td>13.291110</td>\n",
       "      <td>7.736259</td>\n",
       "      <td>11.869757</td>\n",
       "      <td>9.264393</td>\n",
       "      <td>10.910364</td>\n",
       "    </tr>\n",
       "    <tr>\n",
       "      <th>2009</th>\n",
       "      <td>13.072946</td>\n",
       "      <td>7.977191</td>\n",
       "      <td>11.742931</td>\n",
       "      <td>9.504419</td>\n",
       "      <td>11.133109</td>\n",
       "    </tr>\n",
       "    <tr>\n",
       "      <th>2010</th>\n",
       "      <td>13.851254</td>\n",
       "      <td>8.235277</td>\n",
       "      <td>11.746173</td>\n",
       "      <td>10.003578</td>\n",
       "      <td>11.861944</td>\n",
       "    </tr>\n",
       "    <tr>\n",
       "      <th>2012</th>\n",
       "      <td>15.944362</td>\n",
       "      <td>9.317068</td>\n",
       "      <td>13.939839</td>\n",
       "      <td>11.028248</td>\n",
       "      <td>12.612969</td>\n",
       "    </tr>\n",
       "    <tr>\n",
       "      <th>2013</th>\n",
       "      <td>16.730997</td>\n",
       "      <td>9.930452</td>\n",
       "      <td>15.549343</td>\n",
       "      <td>11.346285</td>\n",
       "      <td>12.892412</td>\n",
       "    </tr>\n",
       "    <tr>\n",
       "      <th>2014</th>\n",
       "      <td>16.226521</td>\n",
       "      <td>10.713085</td>\n",
       "      <td>15.973845</td>\n",
       "      <td>11.629691</td>\n",
       "      <td>12.783233</td>\n",
       "    </tr>\n",
       "    <tr>\n",
       "      <th>2018</th>\n",
       "      <td>19.216523</td>\n",
       "      <td>13.705389</td>\n",
       "      <td>24.043298</td>\n",
       "      <td>14.563395</td>\n",
       "      <td>17.824683</td>\n",
       "    </tr>\n",
       "    <tr>\n",
       "      <th>2019</th>\n",
       "      <td>18.797854</td>\n",
       "      <td>14.235414</td>\n",
       "      <td>23.770501</td>\n",
       "      <td>14.760153</td>\n",
       "      <td>18.440588</td>\n",
       "    </tr>\n",
       "    <tr>\n",
       "      <th>2020</th>\n",
       "      <td>19.275008</td>\n",
       "      <td>14.861292</td>\n",
       "      <td>24.898795</td>\n",
       "      <td>15.404832</td>\n",
       "      <td>18.108940</td>\n",
       "    </tr>\n",
       "  </tbody>\n",
       "</table>\n",
       "</div>"
      ],
      "text/plain": [
       "Regiao  Centro-Oeste   Nordeste      Norte    Sudeste        Sul\n",
       "ano                                                             \n",
       "2004        6.349096   5.355745   7.765713   5.170747   6.227395\n",
       "2005        7.113885   5.296420   8.547003   5.502399   7.074730\n",
       "2006        6.769716   5.734427  10.626259   6.581612   6.361407\n",
       "2008       13.291110   7.736259  11.869757   9.264393  10.910364\n",
       "2009       13.072946   7.977191  11.742931   9.504419  11.133109\n",
       "2010       13.851254   8.235277  11.746173  10.003578  11.861944\n",
       "2012       15.944362   9.317068  13.939839  11.028248  12.612969\n",
       "2013       16.730997   9.930452  15.549343  11.346285  12.892412\n",
       "2014       16.226521  10.713085  15.973845  11.629691  12.783233\n",
       "2018       19.216523  13.705389  24.043298  14.563395  17.824683\n",
       "2019       18.797854  14.235414  23.770501  14.760153  18.440588\n",
       "2020       19.275008  14.861292  24.898795  15.404832  18.108940"
      ]
     },
     "execution_count": 18,
     "metadata": {},
     "output_type": "execute_result"
    }
   ],
   "source": [
    "mean_comb_per_regiao = mean_comb_per_regiao.unstack(level='Regiao')\n",
    "mean_comb_per_regiao"
   ]
  },
  {
   "cell_type": "code",
   "execution_count": 19,
   "metadata": {},
   "outputs": [],
   "source": [
    "# Definindo titulo e label pra deixar o código mais limpo\n",
    "titulo = 'Média de Preço de Gasolina com o Passar dos Anos Por Regiao'\n",
    "xlabel = 'Ano'\n",
    "ylabel = 'Média de Preço do Combustível'\n",
    "colormap = 'Dark2'"
   ]
  },
  {
   "cell_type": "code",
   "execution_count": 20,
   "metadata": {},
   "outputs": [
    {
     "data": {
      "text/plain": [
       "<AxesSubplot:title={'center':'Média de Preço de Gasolina com o Passar dos Anos Por Regiao'}, xlabel='Ano', ylabel='Média de Preço do Combustível'>"
      ]
     },
     "execution_count": 20,
     "metadata": {},
     "output_type": "execute_result"
    },
    {
     "data": {
      "image/png": "[encoded data removed]",
      "text/plain": [
       "<Figure size 864x432 with 1 Axes>"
      ]
     },
     "metadata": {
      "needs_background": "light"
     },
     "output_type": "display_data"
    }
   ],
   "source": [
    "mean_comb_per_regiao.plot(figsize = (12,6), title = titulo,\n",
    "                          xlabel = xlabel,\n",
    "                          ylabel = ylabel,\n",
    "                          colormap = colormap)"
   ]
  },
  {
   "cell_type": "markdown",
   "metadata": {},
   "source": [
    "Desde o início da coleta, a região Norte em média teve o preço dos combustiveis mais elevados comparados as outras regiões, mas aparentemente durante um período de 6 anos, o Centro-Oeste tomou essa posição, que não durou muito\n",
    "\n",
    "Talvez a razão da região norte ter o preço mais caro seja por causa da demanda, pois é a região onde possui menos locais para se obter combustiveis e isso consequentemente deve elevar os preços que também é influenciada pelos insumos, tecnologias, custos de produção, etc."
   ]
  },
  {
   "cell_type": "code",
   "execution_count": 21,
   "metadata": {
    "scrolled": false
   },
   "outputs": [
    {
     "data": {
      "image/png": "[encoded data removed]",
      "text/plain": [
       "<Figure size 864x432 with 1 Axes>"
      ]
     },
     "metadata": {
      "needs_background": "light"
     },
     "output_type": "display_data"
    }
   ],
   "source": [
    "# Definindo o tamanho da figura\n",
    "plt.figure(figsize=(12,6))\n",
    "\n",
    "# Fazendo o Treemap\n",
    "squarify.plot(sizes=df.sigla_uf.value_counts(), label=df.sigla_uf.value_counts().index,\n",
    "              color=colors, pad=True, alpha=0.6, text_kwargs={'fontsize': 12});\n",
    "\n",
    "# Adicionando um título\n",
    "plt.title('Comparativo da quantidade de registros por Estado', fontsize=20)\n",
    "\n",
    "# Removendo os eixos\n",
    "plt.axis('off');\n",
    "\n",
    "# Ajustando o gráfico\n",
    "plt.tight_layout()\n"
   ]
  },
  {
   "cell_type": "markdown",
   "metadata": {},
   "source": [
    "E como era de se esperar o estado de São Paulo lidera a concentração de combustível no país, mas é surpreendente o tamanho que ele está de Minas Gerais que vem logo em seguida, talvez no conjunto de dados completo, a diferença não seja tão grande, mas aqui estamos com uma amostra de dois milhões de registros "
   ]
  },
  {
   "cell_type": "code",
   "execution_count": 22,
   "metadata": {
    "scrolled": true
   },
   "outputs": [
    {
     "data": {
      "text/plain": [
       "array(['R$/litro', 'R$/13kg', 'R$/m3'], dtype=object)"
      ]
     },
     "execution_count": 22,
     "metadata": {},
     "output_type": "execute_result"
    }
   ],
   "source": [
    "df['unidade_medida'].unique()"
   ]
  },
  {
   "cell_type": "code",
   "execution_count": 23,
   "metadata": {},
   "outputs": [
    {
     "data": {
      "image/png": "[encoded data removed]",
      "text/plain": [
       "<Figure size 864x432 with 1 Axes>"
      ]
     },
     "metadata": {},
     "output_type": "display_data"
    }
   ],
   "source": [
    "plt.figure(figsize=(12,6))\n",
    "plt.title('Tipo de Unidade de Combustível')\n",
    "\n",
    "ax = (df.unidade_medida.value_counts()/len(df)*100).sort_index().plot(kind=\"pie\", rot=0)"
   ]
  },
  {
   "cell_type": "markdown",
   "metadata": {},
   "source": [
    "E a forma mais usada para compra ou venda de combustivel, onde temos o preço por livro, mas há tambem a medida por metros cubicos que é usada principalmente com gnv e R$13kg que é mais usada com o gás que temos em nossa casa"
   ]
  },
  {
   "cell_type": "code",
   "execution_count": 24,
   "metadata": {
    "scrolled": true
   },
   "outputs": [
    {
     "data": {
      "text/html": [
       "<div>\n",
       "<style scoped>\n",
       "    .dataframe tbody tr th:only-of-type {\n",
       "        vertical-align: middle;\n",
       "    }\n",
       "\n",
       "    .dataframe tbody tr th {\n",
       "        vertical-align: top;\n",
       "    }\n",
       "\n",
       "    .dataframe thead th {\n",
       "        text-align: right;\n",
       "    }\n",
       "</style>\n",
       "<table border=\"1\" class=\"dataframe\">\n",
       "  <thead>\n",
       "    <tr style=\"text-align: right;\">\n",
       "      <th></th>\n",
       "      <th>Bandeira</th>\n",
       "      <th>Quantidade de Registros</th>\n",
       "    </tr>\n",
       "  </thead>\n",
       "  <tbody>\n",
       "    <tr>\n",
       "      <th>0</th>\n",
       "      <td>BRANCA</td>\n",
       "      <td>877051</td>\n",
       "    </tr>\n",
       "    <tr>\n",
       "      <th>1</th>\n",
       "      <td>PETROBRAS DISTRIBUIDORA S.A.</td>\n",
       "      <td>367598</td>\n",
       "    </tr>\n",
       "    <tr>\n",
       "      <th>2</th>\n",
       "      <td>IPIRANGA</td>\n",
       "      <td>197290</td>\n",
       "    </tr>\n",
       "    <tr>\n",
       "      <th>3</th>\n",
       "      <td>RAIZEN</td>\n",
       "      <td>158584</td>\n",
       "    </tr>\n",
       "    <tr>\n",
       "      <th>4</th>\n",
       "      <td>CBPI</td>\n",
       "      <td>96077</td>\n",
       "    </tr>\n",
       "    <tr>\n",
       "      <th>5</th>\n",
       "      <td>COSAN LUBRIFICANTES</td>\n",
       "      <td>77877</td>\n",
       "    </tr>\n",
       "    <tr>\n",
       "      <th>6</th>\n",
       "      <td>ALESAT</td>\n",
       "      <td>36572</td>\n",
       "    </tr>\n",
       "    <tr>\n",
       "      <th>7</th>\n",
       "      <td>LIQUIGÁS</td>\n",
       "      <td>20885</td>\n",
       "    </tr>\n",
       "    <tr>\n",
       "      <th>8</th>\n",
       "      <td>SABBÁ</td>\n",
       "      <td>11516</td>\n",
       "    </tr>\n",
       "    <tr>\n",
       "      <th>9</th>\n",
       "      <td>SP</td>\n",
       "      <td>8644</td>\n",
       "    </tr>\n",
       "  </tbody>\n",
       "</table>\n",
       "</div>"
      ],
      "text/plain": [
       "                       Bandeira  Quantidade de Registros\n",
       "0                        BRANCA                   877051\n",
       "1  PETROBRAS DISTRIBUIDORA S.A.                   367598\n",
       "2                      IPIRANGA                   197290\n",
       "3                        RAIZEN                   158584\n",
       "4                          CBPI                    96077\n",
       "5           COSAN LUBRIFICANTES                    77877\n",
       "6                        ALESAT                    36572\n",
       "7                      LIQUIGÁS                    20885\n",
       "8                         SABBÁ                    11516\n",
       "9                            SP                     8644"
      ]
     },
     "execution_count": 24,
     "metadata": {},
     "output_type": "execute_result"
    }
   ],
   "source": [
    "top10_bandeira = df.bandeira_revenda.value_counts().head(10)\n",
    "top10_bandeira = pd.DataFrame(top10_bandeira)\n",
    "top10_bandeira = top10_bandeira.reset_index()\n",
    "top10_bandeira.rename(columns={'index': 'Bandeira', 'bandeira_revenda': 'Quantidade de Registros'}, inplace= True)\n",
    "top10_bandeira"
   ]
  },
  {
   "cell_type": "markdown",
   "metadata": {},
   "source": [
    "Os postos são chamados bandeira branca por não ser filiado a uma dessas famosas marcas internacionais ou nacionais como Shell, Petrobrás, Ipiranga, Ale. E, ele então, ou tem uma marca própria, ou não tem marca nenhuma. Ele simplesmente compra o etanol e os derivados de petróleo da refinaria ou do fornecedor que oferecer o melhor preço e qualidade."
   ]
  },
  {
   "cell_type": "code",
   "execution_count": 25,
   "metadata": {
    "scrolled": true
   },
   "outputs": [
    {
     "data": {
      "text/html": [
       "<div>\n",
       "<style scoped>\n",
       "    .dataframe tbody tr th:only-of-type {\n",
       "        vertical-align: middle;\n",
       "    }\n",
       "\n",
       "    .dataframe tbody tr th {\n",
       "        vertical-align: top;\n",
       "    }\n",
       "\n",
       "    .dataframe thead th {\n",
       "        text-align: right;\n",
       "    }\n",
       "</style>\n",
       "<table border=\"1\" class=\"dataframe\">\n",
       "  <thead>\n",
       "    <tr style=\"text-align: right;\">\n",
       "      <th></th>\n",
       "      <th>ano</th>\n",
       "      <th>preco_venda</th>\n",
       "    </tr>\n",
       "  </thead>\n",
       "  <tbody>\n",
       "    <tr>\n",
       "      <th>0</th>\n",
       "      <td>2004</td>\n",
       "      <td>5.495126</td>\n",
       "    </tr>\n",
       "    <tr>\n",
       "      <th>1</th>\n",
       "      <td>2005</td>\n",
       "      <td>5.918219</td>\n",
       "    </tr>\n",
       "    <tr>\n",
       "      <th>2</th>\n",
       "      <td>2006</td>\n",
       "      <td>6.561186</td>\n",
       "    </tr>\n",
       "    <tr>\n",
       "      <th>3</th>\n",
       "      <td>2008</td>\n",
       "      <td>9.537053</td>\n",
       "    </tr>\n",
       "    <tr>\n",
       "      <th>4</th>\n",
       "      <td>2009</td>\n",
       "      <td>9.684570</td>\n",
       "    </tr>\n",
       "    <tr>\n",
       "      <th>5</th>\n",
       "      <td>2010</td>\n",
       "      <td>10.158248</td>\n",
       "    </tr>\n",
       "    <tr>\n",
       "      <th>6</th>\n",
       "      <td>2012</td>\n",
       "      <td>11.249403</td>\n",
       "    </tr>\n",
       "    <tr>\n",
       "      <th>7</th>\n",
       "      <td>2013</td>\n",
       "      <td>11.716362</td>\n",
       "    </tr>\n",
       "    <tr>\n",
       "      <th>8</th>\n",
       "      <td>2014</td>\n",
       "      <td>11.970822</td>\n",
       "    </tr>\n",
       "    <tr>\n",
       "      <th>9</th>\n",
       "      <td>2018</td>\n",
       "      <td>15.819135</td>\n",
       "    </tr>\n",
       "    <tr>\n",
       "      <th>10</th>\n",
       "      <td>2019</td>\n",
       "      <td>16.095850</td>\n",
       "    </tr>\n",
       "    <tr>\n",
       "      <th>11</th>\n",
       "      <td>2020</td>\n",
       "      <td>16.586644</td>\n",
       "    </tr>\n",
       "  </tbody>\n",
       "</table>\n",
       "</div>"
      ],
      "text/plain": [
       "     ano  preco_venda\n",
       "0   2004     5.495126\n",
       "1   2005     5.918219\n",
       "2   2006     6.561186\n",
       "3   2008     9.537053\n",
       "4   2009     9.684570\n",
       "5   2010    10.158248\n",
       "6   2012    11.249403\n",
       "7   2013    11.716362\n",
       "8   2014    11.970822\n",
       "9   2018    15.819135\n",
       "10  2019    16.095850\n",
       "11  2020    16.586644"
      ]
     },
     "execution_count": 25,
     "metadata": {},
     "output_type": "execute_result"
    }
   ],
   "source": [
    "# Agrupando o preço médio de vendas por ano\n",
    "mean_comb_per_year = df.groupby('ano').mean('preco_venda').reset_index()\n",
    "mean_comb_per_year"
   ]
  },
  {
   "cell_type": "code",
   "execution_count": 26,
   "metadata": {
    "scrolled": false
   },
   "outputs": [
    {
     "data": {
      "text/plain": [
       "[<matplotlib.lines.Line2D at 0x25887630c40>]"
      ]
     },
     "execution_count": 26,
     "metadata": {},
     "output_type": "execute_result"
    },
    {
     "data": {
      "image/png": "[encoded data removed]",
      "text/plain": [
       "<Figure size 864x432 with 1 Axes>"
      ]
     },
     "metadata": {
      "needs_background": "light"
     },
     "output_type": "display_data"
    }
   ],
   "source": [
    "# Plotando a tabela acima \n",
    "plt.figure(figsize=(12,6))\n",
    "plt.title('Preço dos Combustíveis ao Passar dos Anos')\n",
    "plt.xlabel('Ano')\n",
    "plt.ylabel('Média do Preço (em R$)')\n",
    "plt.plot( mean_comb_per_year.ano, mean_comb_per_year.preco_venda)"
   ]
  },
  {
   "cell_type": "markdown",
   "metadata": {},
   "source": [
    "Como podemos observar, conforme os anos vão passando, o preço dos combustíveis vai aumentando e um dos vários fatores para isso é a cotação no petroleo no mercado internacional"
   ]
  },
  {
   "cell_type": "code",
   "execution_count": 27,
   "metadata": {},
   "outputs": [],
   "source": [
    "mean_comb_per_year['CrescimentoAnual'] = mean_comb_per_year.preco_venda.pct_change()"
   ]
  },
  {
   "cell_type": "code",
   "execution_count": 28,
   "metadata": {},
   "outputs": [
    {
     "data": {
      "text/html": [
       "<div>\n",
       "<style scoped>\n",
       "    .dataframe tbody tr th:only-of-type {\n",
       "        vertical-align: middle;\n",
       "    }\n",
       "\n",
       "    .dataframe tbody tr th {\n",
       "        vertical-align: top;\n",
       "    }\n",
       "\n",
       "    .dataframe thead th {\n",
       "        text-align: right;\n",
       "    }\n",
       "</style>\n",
       "<table border=\"1\" class=\"dataframe\">\n",
       "  <thead>\n",
       "    <tr style=\"text-align: right;\">\n",
       "      <th></th>\n",
       "      <th>ano</th>\n",
       "      <th>preco_venda</th>\n",
       "      <th>CrescimentoAnual</th>\n",
       "    </tr>\n",
       "  </thead>\n",
       "  <tbody>\n",
       "    <tr>\n",
       "      <th>0</th>\n",
       "      <td>2004</td>\n",
       "      <td>5.495126</td>\n",
       "      <td>NaN</td>\n",
       "    </tr>\n",
       "    <tr>\n",
       "      <th>1</th>\n",
       "      <td>2005</td>\n",
       "      <td>5.918219</td>\n",
       "      <td>0.076994</td>\n",
       "    </tr>\n",
       "    <tr>\n",
       "      <th>2</th>\n",
       "      <td>2006</td>\n",
       "      <td>6.561186</td>\n",
       "      <td>0.108642</td>\n",
       "    </tr>\n",
       "    <tr>\n",
       "      <th>3</th>\n",
       "      <td>2008</td>\n",
       "      <td>9.537053</td>\n",
       "      <td>0.453556</td>\n",
       "    </tr>\n",
       "    <tr>\n",
       "      <th>4</th>\n",
       "      <td>2009</td>\n",
       "      <td>9.684570</td>\n",
       "      <td>0.015468</td>\n",
       "    </tr>\n",
       "    <tr>\n",
       "      <th>5</th>\n",
       "      <td>2010</td>\n",
       "      <td>10.158248</td>\n",
       "      <td>0.048911</td>\n",
       "    </tr>\n",
       "    <tr>\n",
       "      <th>6</th>\n",
       "      <td>2012</td>\n",
       "      <td>11.249403</td>\n",
       "      <td>0.107416</td>\n",
       "    </tr>\n",
       "    <tr>\n",
       "      <th>7</th>\n",
       "      <td>2013</td>\n",
       "      <td>11.716362</td>\n",
       "      <td>0.041510</td>\n",
       "    </tr>\n",
       "    <tr>\n",
       "      <th>8</th>\n",
       "      <td>2014</td>\n",
       "      <td>11.970822</td>\n",
       "      <td>0.021718</td>\n",
       "    </tr>\n",
       "    <tr>\n",
       "      <th>9</th>\n",
       "      <td>2018</td>\n",
       "      <td>15.819135</td>\n",
       "      <td>0.321474</td>\n",
       "    </tr>\n",
       "    <tr>\n",
       "      <th>10</th>\n",
       "      <td>2019</td>\n",
       "      <td>16.095850</td>\n",
       "      <td>0.017492</td>\n",
       "    </tr>\n",
       "    <tr>\n",
       "      <th>11</th>\n",
       "      <td>2020</td>\n",
       "      <td>16.586644</td>\n",
       "      <td>0.030492</td>\n",
       "    </tr>\n",
       "  </tbody>\n",
       "</table>\n",
       "</div>"
      ],
      "text/plain": [
       "     ano  preco_venda  CrescimentoAnual\n",
       "0   2004     5.495126               NaN\n",
       "1   2005     5.918219          0.076994\n",
       "2   2006     6.561186          0.108642\n",
       "3   2008     9.537053          0.453556\n",
       "4   2009     9.684570          0.015468\n",
       "5   2010    10.158248          0.048911\n",
       "6   2012    11.249403          0.107416\n",
       "7   2013    11.716362          0.041510\n",
       "8   2014    11.970822          0.021718\n",
       "9   2018    15.819135          0.321474\n",
       "10  2019    16.095850          0.017492\n",
       "11  2020    16.586644          0.030492"
      ]
     },
     "execution_count": 28,
     "metadata": {},
     "output_type": "execute_result"
    }
   ],
   "source": [
    "mean_comb_per_year"
   ]
  },
  {
   "cell_type": "markdown",
   "metadata": {},
   "source": [
    "Na tabela acima, temos o ano, o preço de venda em *MÉDIA* e o crescimento do preço em percentual conforme o passar dos anos e veja que a maior diferença na média foi do ano de 2007 pra 2008, seguido de 2014 pra 2016 (não sei dizer o motivo de não ter dados do ano de 2015)"
   ]
  },
  {
   "cell_type": "code",
   "execution_count": 29,
   "metadata": {
    "scrolled": true
   },
   "outputs": [
    {
     "data": {
      "text/html": [
       "<div>\n",
       "<style scoped>\n",
       "    .dataframe tbody tr th:only-of-type {\n",
       "        vertical-align: middle;\n",
       "    }\n",
       "\n",
       "    .dataframe tbody tr th {\n",
       "        vertical-align: top;\n",
       "    }\n",
       "\n",
       "    .dataframe thead th {\n",
       "        text-align: right;\n",
       "    }\n",
       "</style>\n",
       "<table border=\"1\" class=\"dataframe\">\n",
       "  <thead>\n",
       "    <tr style=\"text-align: right;\">\n",
       "      <th></th>\n",
       "      <th></th>\n",
       "      <th>preco_venda</th>\n",
       "    </tr>\n",
       "    <tr>\n",
       "      <th>ano</th>\n",
       "      <th>sigla_uf</th>\n",
       "      <th></th>\n",
       "    </tr>\n",
       "  </thead>\n",
       "  <tbody>\n",
       "    <tr>\n",
       "      <th rowspan=\"5\" valign=\"top\">2004</th>\n",
       "      <th>AC</th>\n",
       "      <td>6.970496</td>\n",
       "    </tr>\n",
       "    <tr>\n",
       "      <th>AL</th>\n",
       "      <td>3.349855</td>\n",
       "    </tr>\n",
       "    <tr>\n",
       "      <th>AM</th>\n",
       "      <td>8.556344</td>\n",
       "    </tr>\n",
       "    <tr>\n",
       "      <th>AP</th>\n",
       "      <td>5.178292</td>\n",
       "    </tr>\n",
       "    <tr>\n",
       "      <th>BA</th>\n",
       "      <td>6.521564</td>\n",
       "    </tr>\n",
       "    <tr>\n",
       "      <th>...</th>\n",
       "      <th>...</th>\n",
       "      <td>...</td>\n",
       "    </tr>\n",
       "    <tr>\n",
       "      <th rowspan=\"5\" valign=\"top\">2020</th>\n",
       "      <th>RS</th>\n",
       "      <td>20.260733</td>\n",
       "    </tr>\n",
       "    <tr>\n",
       "      <th>SC</th>\n",
       "      <td>11.534054</td>\n",
       "    </tr>\n",
       "    <tr>\n",
       "      <th>SE</th>\n",
       "      <td>15.255143</td>\n",
       "    </tr>\n",
       "    <tr>\n",
       "      <th>SP</th>\n",
       "      <td>13.977258</td>\n",
       "    </tr>\n",
       "    <tr>\n",
       "      <th>TO</th>\n",
       "      <td>31.528771</td>\n",
       "    </tr>\n",
       "  </tbody>\n",
       "</table>\n",
       "<p>324 rows × 1 columns</p>\n",
       "</div>"
      ],
      "text/plain": [
       "               preco_venda\n",
       "ano  sigla_uf             \n",
       "2004 AC           6.970496\n",
       "     AL           3.349855\n",
       "     AM           8.556344\n",
       "     AP           5.178292\n",
       "     BA           6.521564\n",
       "...                    ...\n",
       "2020 RS          20.260733\n",
       "     SC          11.534054\n",
       "     SE          15.255143\n",
       "     SP          13.977258\n",
       "     TO          31.528771\n",
       "\n",
       "[324 rows x 1 columns]"
      ]
     },
     "execution_count": 29,
     "metadata": {},
     "output_type": "execute_result"
    }
   ],
   "source": [
    "mean_comb_per_uf = df.groupby(['ano', 'sigla_uf']).mean('preco_venda')\n",
    "mean_comb_per_uf"
   ]
  },
  {
   "cell_type": "markdown",
   "metadata": {},
   "source": [
    "E conforme fizemos anteriormente, na tabela acima temos um agrupamento por ano e por Estado, onde é possivel visualizar a média de todos os combustiveis em seus respectivos anos e Estados "
   ]
  },
  {
   "cell_type": "code",
   "execution_count": 30,
   "metadata": {
    "scrolled": true
   },
   "outputs": [
    {
     "data": {
      "text/html": [
       "<div>\n",
       "<style scoped>\n",
       "    .dataframe tbody tr th:only-of-type {\n",
       "        vertical-align: middle;\n",
       "    }\n",
       "\n",
       "    .dataframe tbody tr th {\n",
       "        vertical-align: top;\n",
       "    }\n",
       "\n",
       "    .dataframe thead th {\n",
       "        text-align: right;\n",
       "    }\n",
       "</style>\n",
       "<table border=\"1\" class=\"dataframe\">\n",
       "  <thead>\n",
       "    <tr style=\"text-align: right;\">\n",
       "      <th></th>\n",
       "      <th>ano</th>\n",
       "      <th>sigla_uf</th>\n",
       "      <th>id_municipio</th>\n",
       "      <th>bairro_revenda</th>\n",
       "      <th>cep_revenda</th>\n",
       "      <th>endereco_revenda</th>\n",
       "      <th>cnpj_revenda</th>\n",
       "      <th>nome_estabelecimento</th>\n",
       "      <th>bandeira_revenda</th>\n",
       "      <th>data_coleta</th>\n",
       "      <th>produto</th>\n",
       "      <th>unidade_medida</th>\n",
       "      <th>preco_venda</th>\n",
       "      <th>Regiao</th>\n",
       "    </tr>\n",
       "  </thead>\n",
       "  <tbody>\n",
       "    <tr>\n",
       "      <th>2</th>\n",
       "      <td>2012</td>\n",
       "      <td>SP</td>\n",
       "      <td>3550308</td>\n",
       "      <td>PENHA</td>\n",
       "      <td>03631-000</td>\n",
       "      <td>RUA GUAIAUNA,751</td>\n",
       "      <td>05.052.272/0001-59</td>\n",
       "      <td>AUTO POSTO CIDADE QUATRO LTDA</td>\n",
       "      <td>PETROBRAS DISTRIBUIDORA S.A.</td>\n",
       "      <td>2012-01-02</td>\n",
       "      <td>diesel s50</td>\n",
       "      <td>R$/litro</td>\n",
       "      <td>2.099</td>\n",
       "      <td>Sudeste</td>\n",
       "    </tr>\n",
       "    <tr>\n",
       "      <th>4</th>\n",
       "      <td>2012</td>\n",
       "      <td>SP</td>\n",
       "      <td>3530607</td>\n",
       "      <td>PONTE GRANDE</td>\n",
       "      <td>08775-000</td>\n",
       "      <td>AVENIDA LOTHAR WALDEMAR HOENNE,1200</td>\n",
       "      <td>62.071.196/0001-62</td>\n",
       "      <td>AUTO POSTO MOGI DAS CRUZES LTDA</td>\n",
       "      <td>PETROBRAS DISTRIBUIDORA S.A.</td>\n",
       "      <td>2012-01-02</td>\n",
       "      <td>diesel s50</td>\n",
       "      <td>R$/litro</td>\n",
       "      <td>2.099</td>\n",
       "      <td>Sudeste</td>\n",
       "    </tr>\n",
       "    <tr>\n",
       "      <th>5</th>\n",
       "      <td>2012</td>\n",
       "      <td>SP</td>\n",
       "      <td>3530508</td>\n",
       "      <td>JARDIM GATOLANDIA</td>\n",
       "      <td>13731-000</td>\n",
       "      <td>AVENIDA CHRISTOVAM LIMA GUEDES,1653</td>\n",
       "      <td>06.208.892/0001-05</td>\n",
       "      <td>AUTO POSTO IRMAOS VILA LTDA - EPP</td>\n",
       "      <td>BRANCA</td>\n",
       "      <td>2012-01-02</td>\n",
       "      <td>diesel s50</td>\n",
       "      <td>R$/litro</td>\n",
       "      <td>1.979</td>\n",
       "      <td>Sudeste</td>\n",
       "    </tr>\n",
       "    <tr>\n",
       "      <th>6</th>\n",
       "      <td>2012</td>\n",
       "      <td>SP</td>\n",
       "      <td>3530508</td>\n",
       "      <td>ZONA RURAL</td>\n",
       "      <td>13730-000</td>\n",
       "      <td>RODOVIA SP 340,S/N KM 263</td>\n",
       "      <td>46.396.990/0001-20</td>\n",
       "      <td>AUTO POSTO MOCOCAO LTDA</td>\n",
       "      <td>PETROBRAS DISTRIBUIDORA S.A.</td>\n",
       "      <td>2012-01-02</td>\n",
       "      <td>diesel s50</td>\n",
       "      <td>R$/litro</td>\n",
       "      <td>1.979</td>\n",
       "      <td>Sudeste</td>\n",
       "    </tr>\n",
       "    <tr>\n",
       "      <th>23</th>\n",
       "      <td>2012</td>\n",
       "      <td>SP</td>\n",
       "      <td>3527108</td>\n",
       "      <td>CENTRO</td>\n",
       "      <td>16400-101</td>\n",
       "      <td>RUA FLORIANO PEIXOTO,1435</td>\n",
       "      <td>02.787.519/0001-97</td>\n",
       "      <td>PIT STOP AUTO POSTO DE LINS LTDA</td>\n",
       "      <td>PETROBRAS DISTRIBUIDORA S.A.</td>\n",
       "      <td>2012-01-03</td>\n",
       "      <td>diesel s50</td>\n",
       "      <td>R$/litro</td>\n",
       "      <td>1.999</td>\n",
       "      <td>Sudeste</td>\n",
       "    </tr>\n",
       "    <tr>\n",
       "      <th>...</th>\n",
       "      <td>...</td>\n",
       "      <td>...</td>\n",
       "      <td>...</td>\n",
       "      <td>...</td>\n",
       "      <td>...</td>\n",
       "      <td>...</td>\n",
       "      <td>...</td>\n",
       "      <td>...</td>\n",
       "      <td>...</td>\n",
       "      <td>...</td>\n",
       "      <td>...</td>\n",
       "      <td>...</td>\n",
       "      <td>...</td>\n",
       "      <td>...</td>\n",
       "    </tr>\n",
       "    <tr>\n",
       "      <th>1999825</th>\n",
       "      <td>2020</td>\n",
       "      <td>SP</td>\n",
       "      <td>3552403</td>\n",
       "      <td>JARDIM SANTA MADALENA</td>\n",
       "      <td>13172-260</td>\n",
       "      <td>AVENIDA IVO TREVISAN,698</td>\n",
       "      <td>02.810.037/0001-00</td>\n",
       "      <td>AUTO POSTO TREVISAN DE SUMARE LTDA</td>\n",
       "      <td>BRANCA</td>\n",
       "      <td>2020-02-19</td>\n",
       "      <td>diesel s10</td>\n",
       "      <td>R$/litro</td>\n",
       "      <td>3.699</td>\n",
       "      <td>Sudeste</td>\n",
       "    </tr>\n",
       "    <tr>\n",
       "      <th>1999828</th>\n",
       "      <td>2020</td>\n",
       "      <td>SP</td>\n",
       "      <td>3552403</td>\n",
       "      <td>JD MARACANA</td>\n",
       "      <td>13176-102</td>\n",
       "      <td>AVENIDA CHICO MENDES,123</td>\n",
       "      <td>66.881.632/0001-10</td>\n",
       "      <td>POSTO DE SERVICO RAY LTDA</td>\n",
       "      <td>PETROBRAS DISTRIBUIDORA S.A.</td>\n",
       "      <td>2020-02-19</td>\n",
       "      <td>diesel s10</td>\n",
       "      <td>R$/litro</td>\n",
       "      <td>3.659</td>\n",
       "      <td>Sudeste</td>\n",
       "    </tr>\n",
       "    <tr>\n",
       "      <th>1999829</th>\n",
       "      <td>2020</td>\n",
       "      <td>SP</td>\n",
       "      <td>3552403</td>\n",
       "      <td>PARQUE ONGARO</td>\n",
       "      <td>13170-023</td>\n",
       "      <td>AVENIDA REBOUCAS,3000</td>\n",
       "      <td>58.471.251/0001-34</td>\n",
       "      <td>AUTO POSTO PARQUE ONGARO LTDA</td>\n",
       "      <td>BRANCA</td>\n",
       "      <td>2020-02-19</td>\n",
       "      <td>diesel s10</td>\n",
       "      <td>R$/litro</td>\n",
       "      <td>3.749</td>\n",
       "      <td>Sudeste</td>\n",
       "    </tr>\n",
       "    <tr>\n",
       "      <th>1999975</th>\n",
       "      <td>2020</td>\n",
       "      <td>SP</td>\n",
       "      <td>3552403</td>\n",
       "      <td>JD BOM RETIRO</td>\n",
       "      <td>13181-622</td>\n",
       "      <td>AVENIDA AUGUSTA DIOGO AYALAR,515</td>\n",
       "      <td>00.746.506/0001-44</td>\n",
       "      <td>POSTO PRACA LTDA</td>\n",
       "      <td>BRANCA</td>\n",
       "      <td>2020-02-19</td>\n",
       "      <td>diesel s10</td>\n",
       "      <td>R$/litro</td>\n",
       "      <td>3.499</td>\n",
       "      <td>Sudeste</td>\n",
       "    </tr>\n",
       "    <tr>\n",
       "      <th>1999976</th>\n",
       "      <td>2020</td>\n",
       "      <td>SP</td>\n",
       "      <td>3552403</td>\n",
       "      <td>PQ DA AMIZADE</td>\n",
       "      <td>13175-375</td>\n",
       "      <td>AVENIDA DA AMIZADE,2635</td>\n",
       "      <td>11.265.115/0001-24</td>\n",
       "      <td>AUTO POSTO SHANKAR LTDA</td>\n",
       "      <td>BRANCA</td>\n",
       "      <td>2020-02-19</td>\n",
       "      <td>diesel s10</td>\n",
       "      <td>R$/litro</td>\n",
       "      <td>3.699</td>\n",
       "      <td>Sudeste</td>\n",
       "    </tr>\n",
       "  </tbody>\n",
       "</table>\n",
       "<p>550356 rows × 14 columns</p>\n",
       "</div>"
      ],
      "text/plain": [
       "          ano sigla_uf id_municipio         bairro_revenda cep_revenda  \\\n",
       "2        2012       SP      3550308                  PENHA   03631-000   \n",
       "4        2012       SP      3530607           PONTE GRANDE   08775-000   \n",
       "5        2012       SP      3530508      JARDIM GATOLANDIA   13731-000   \n",
       "6        2012       SP      3530508             ZONA RURAL   13730-000   \n",
       "23       2012       SP      3527108                 CENTRO   16400-101   \n",
       "...       ...      ...          ...                    ...         ...   \n",
       "1999825  2020       SP      3552403  JARDIM SANTA MADALENA   13172-260   \n",
       "1999828  2020       SP      3552403            JD MARACANA   13176-102   \n",
       "1999829  2020       SP      3552403          PARQUE ONGARO   13170-023   \n",
       "1999975  2020       SP      3552403          JD BOM RETIRO   13181-622   \n",
       "1999976  2020       SP      3552403          PQ DA AMIZADE   13175-375   \n",
       "\n",
       "                             endereco_revenda         cnpj_revenda  \\\n",
       "2                           RUA GUAIAUNA,751    05.052.272/0001-59   \n",
       "4        AVENIDA LOTHAR WALDEMAR HOENNE,1200    62.071.196/0001-62   \n",
       "5        AVENIDA CHRISTOVAM LIMA GUEDES,1653    06.208.892/0001-05   \n",
       "6                   RODOVIA SP 340,S/N KM 263   46.396.990/0001-20   \n",
       "23                 RUA FLORIANO PEIXOTO,1435    02.787.519/0001-97   \n",
       "...                                       ...                  ...   \n",
       "1999825             AVENIDA IVO TREVISAN,698    02.810.037/0001-00   \n",
       "1999828             AVENIDA CHICO MENDES,123    66.881.632/0001-10   \n",
       "1999829                AVENIDA REBOUCAS,3000    58.471.251/0001-34   \n",
       "1999975     AVENIDA AUGUSTA DIOGO AYALAR,515    00.746.506/0001-44   \n",
       "1999976              AVENIDA DA AMIZADE,2635    11.265.115/0001-24   \n",
       "\n",
       "                       nome_estabelecimento              bandeira_revenda  \\\n",
       "2             AUTO POSTO CIDADE QUATRO LTDA  PETROBRAS DISTRIBUIDORA S.A.   \n",
       "4           AUTO POSTO MOGI DAS CRUZES LTDA  PETROBRAS DISTRIBUIDORA S.A.   \n",
       "5         AUTO POSTO IRMAOS VILA LTDA - EPP                        BRANCA   \n",
       "6                   AUTO POSTO MOCOCAO LTDA  PETROBRAS DISTRIBUIDORA S.A.   \n",
       "23         PIT STOP AUTO POSTO DE LINS LTDA  PETROBRAS DISTRIBUIDORA S.A.   \n",
       "...                                     ...                           ...   \n",
       "1999825  AUTO POSTO TREVISAN DE SUMARE LTDA                        BRANCA   \n",
       "1999828           POSTO DE SERVICO RAY LTDA  PETROBRAS DISTRIBUIDORA S.A.   \n",
       "1999829       AUTO POSTO PARQUE ONGARO LTDA                        BRANCA   \n",
       "1999975                    POSTO PRACA LTDA                        BRANCA   \n",
       "1999976             AUTO POSTO SHANKAR LTDA                        BRANCA   \n",
       "\n",
       "        data_coleta     produto unidade_medida  preco_venda   Regiao  \n",
       "2        2012-01-02  diesel s50       R$/litro        2.099  Sudeste  \n",
       "4        2012-01-02  diesel s50       R$/litro        2.099  Sudeste  \n",
       "5        2012-01-02  diesel s50       R$/litro        1.979  Sudeste  \n",
       "6        2012-01-02  diesel s50       R$/litro        1.979  Sudeste  \n",
       "23       2012-01-03  diesel s50       R$/litro        1.999  Sudeste  \n",
       "...             ...         ...            ...          ...      ...  \n",
       "1999825  2020-02-19  diesel s10       R$/litro        3.699  Sudeste  \n",
       "1999828  2020-02-19  diesel s10       R$/litro        3.659  Sudeste  \n",
       "1999829  2020-02-19  diesel s10       R$/litro        3.749  Sudeste  \n",
       "1999975  2020-02-19  diesel s10       R$/litro        3.499  Sudeste  \n",
       "1999976  2020-02-19  diesel s10       R$/litro        3.699  Sudeste  \n",
       "\n",
       "[550356 rows x 14 columns]"
      ]
     },
     "execution_count": 30,
     "metadata": {},
     "output_type": "execute_result"
    }
   ],
   "source": [
    "# Filtrando os dados onde sera obtido somente dados do estado de SP\n",
    "dfSP = df.query('sigla_uf==\"SP\"')\n",
    "dfSP"
   ]
  },
  {
   "cell_type": "code",
   "execution_count": 31,
   "metadata": {},
   "outputs": [
    {
     "data": {
      "text/html": [
       "<div>\n",
       "<style scoped>\n",
       "    .dataframe tbody tr th:only-of-type {\n",
       "        vertical-align: middle;\n",
       "    }\n",
       "\n",
       "    .dataframe tbody tr th {\n",
       "        vertical-align: top;\n",
       "    }\n",
       "\n",
       "    .dataframe thead th {\n",
       "        text-align: right;\n",
       "    }\n",
       "</style>\n",
       "<table border=\"1\" class=\"dataframe\">\n",
       "  <thead>\n",
       "    <tr style=\"text-align: right;\">\n",
       "      <th></th>\n",
       "      <th>ano</th>\n",
       "      <th>preco_venda</th>\n",
       "    </tr>\n",
       "  </thead>\n",
       "  <tbody>\n",
       "    <tr>\n",
       "      <th>0</th>\n",
       "      <td>2004</td>\n",
       "      <td>4.447784</td>\n",
       "    </tr>\n",
       "    <tr>\n",
       "      <th>1</th>\n",
       "      <td>2005</td>\n",
       "      <td>4.776756</td>\n",
       "    </tr>\n",
       "    <tr>\n",
       "      <th>2</th>\n",
       "      <td>2006</td>\n",
       "      <td>5.283907</td>\n",
       "    </tr>\n",
       "    <tr>\n",
       "      <th>3</th>\n",
       "      <td>2008</td>\n",
       "      <td>8.588243</td>\n",
       "    </tr>\n",
       "    <tr>\n",
       "      <th>4</th>\n",
       "      <td>2009</td>\n",
       "      <td>9.027568</td>\n",
       "    </tr>\n",
       "    <tr>\n",
       "      <th>5</th>\n",
       "      <td>2010</td>\n",
       "      <td>9.337572</td>\n",
       "    </tr>\n",
       "    <tr>\n",
       "      <th>6</th>\n",
       "      <td>2012</td>\n",
       "      <td>10.355560</td>\n",
       "    </tr>\n",
       "    <tr>\n",
       "      <th>7</th>\n",
       "      <td>2013</td>\n",
       "      <td>10.663173</td>\n",
       "    </tr>\n",
       "    <tr>\n",
       "      <th>8</th>\n",
       "      <td>2014</td>\n",
       "      <td>10.926078</td>\n",
       "    </tr>\n",
       "    <tr>\n",
       "      <th>9</th>\n",
       "      <td>2018</td>\n",
       "      <td>13.227549</td>\n",
       "    </tr>\n",
       "    <tr>\n",
       "      <th>10</th>\n",
       "      <td>2019</td>\n",
       "      <td>13.519443</td>\n",
       "    </tr>\n",
       "    <tr>\n",
       "      <th>11</th>\n",
       "      <td>2020</td>\n",
       "      <td>13.977258</td>\n",
       "    </tr>\n",
       "  </tbody>\n",
       "</table>\n",
       "</div>"
      ],
      "text/plain": [
       "     ano  preco_venda\n",
       "0   2004     4.447784\n",
       "1   2005     4.776756\n",
       "2   2006     5.283907\n",
       "3   2008     8.588243\n",
       "4   2009     9.027568\n",
       "5   2010     9.337572\n",
       "6   2012    10.355560\n",
       "7   2013    10.663173\n",
       "8   2014    10.926078\n",
       "9   2018    13.227549\n",
       "10  2019    13.519443\n",
       "11  2020    13.977258"
      ]
     },
     "execution_count": 31,
     "metadata": {},
     "output_type": "execute_result"
    }
   ],
   "source": [
    "# Agrupando o preço médio de SP por ano \n",
    "mean_comb_per_yearSP = dfSP.groupby('ano').mean('preco_venda').reset_index()\n",
    "mean_comb_per_yearSP"
   ]
  },
  {
   "cell_type": "code",
   "execution_count": 32,
   "metadata": {
    "scrolled": true
   },
   "outputs": [
    {
     "data": {
      "text/html": [
       "<div>\n",
       "<style scoped>\n",
       "    .dataframe tbody tr th:only-of-type {\n",
       "        vertical-align: middle;\n",
       "    }\n",
       "\n",
       "    .dataframe tbody tr th {\n",
       "        vertical-align: top;\n",
       "    }\n",
       "\n",
       "    .dataframe thead th {\n",
       "        text-align: right;\n",
       "    }\n",
       "</style>\n",
       "<table border=\"1\" class=\"dataframe\">\n",
       "  <thead>\n",
       "    <tr style=\"text-align: right;\">\n",
       "      <th></th>\n",
       "      <th>ano</th>\n",
       "      <th>preco_venda</th>\n",
       "      <th>CrescimentoAnual</th>\n",
       "    </tr>\n",
       "  </thead>\n",
       "  <tbody>\n",
       "    <tr>\n",
       "      <th>0</th>\n",
       "      <td>2004</td>\n",
       "      <td>4.447784</td>\n",
       "      <td>NaN</td>\n",
       "    </tr>\n",
       "    <tr>\n",
       "      <th>1</th>\n",
       "      <td>2005</td>\n",
       "      <td>4.776756</td>\n",
       "      <td>0.073963</td>\n",
       "    </tr>\n",
       "    <tr>\n",
       "      <th>2</th>\n",
       "      <td>2006</td>\n",
       "      <td>5.283907</td>\n",
       "      <td>0.106171</td>\n",
       "    </tr>\n",
       "    <tr>\n",
       "      <th>3</th>\n",
       "      <td>2008</td>\n",
       "      <td>8.588243</td>\n",
       "      <td>0.625358</td>\n",
       "    </tr>\n",
       "    <tr>\n",
       "      <th>4</th>\n",
       "      <td>2009</td>\n",
       "      <td>9.027568</td>\n",
       "      <td>0.051154</td>\n",
       "    </tr>\n",
       "    <tr>\n",
       "      <th>5</th>\n",
       "      <td>2010</td>\n",
       "      <td>9.337572</td>\n",
       "      <td>0.034340</td>\n",
       "    </tr>\n",
       "    <tr>\n",
       "      <th>6</th>\n",
       "      <td>2012</td>\n",
       "      <td>10.355560</td>\n",
       "      <td>0.109021</td>\n",
       "    </tr>\n",
       "    <tr>\n",
       "      <th>7</th>\n",
       "      <td>2013</td>\n",
       "      <td>10.663173</td>\n",
       "      <td>0.029705</td>\n",
       "    </tr>\n",
       "    <tr>\n",
       "      <th>8</th>\n",
       "      <td>2014</td>\n",
       "      <td>10.926078</td>\n",
       "      <td>0.024655</td>\n",
       "    </tr>\n",
       "    <tr>\n",
       "      <th>9</th>\n",
       "      <td>2018</td>\n",
       "      <td>13.227549</td>\n",
       "      <td>0.210640</td>\n",
       "    </tr>\n",
       "    <tr>\n",
       "      <th>10</th>\n",
       "      <td>2019</td>\n",
       "      <td>13.519443</td>\n",
       "      <td>0.022067</td>\n",
       "    </tr>\n",
       "    <tr>\n",
       "      <th>11</th>\n",
       "      <td>2020</td>\n",
       "      <td>13.977258</td>\n",
       "      <td>0.033863</td>\n",
       "    </tr>\n",
       "  </tbody>\n",
       "</table>\n",
       "</div>"
      ],
      "text/plain": [
       "     ano  preco_venda  CrescimentoAnual\n",
       "0   2004     4.447784               NaN\n",
       "1   2005     4.776756          0.073963\n",
       "2   2006     5.283907          0.106171\n",
       "3   2008     8.588243          0.625358\n",
       "4   2009     9.027568          0.051154\n",
       "5   2010     9.337572          0.034340\n",
       "6   2012    10.355560          0.109021\n",
       "7   2013    10.663173          0.029705\n",
       "8   2014    10.926078          0.024655\n",
       "9   2018    13.227549          0.210640\n",
       "10  2019    13.519443          0.022067\n",
       "11  2020    13.977258          0.033863"
      ]
     },
     "execution_count": 32,
     "metadata": {},
     "output_type": "execute_result"
    }
   ],
   "source": [
    "mean_comb_per_yearSP['CrescimentoAnual'] = mean_comb_per_yearSP.preco_venda.pct_change()\n",
    "mean_comb_per_yearSP"
   ]
  },
  {
   "cell_type": "code",
   "execution_count": 33,
   "metadata": {
    "scrolled": false
   },
   "outputs": [
    {
     "data": {
      "text/plain": [
       "[<matplotlib.lines.Line2D at 0x258876b7df0>]"
      ]
     },
     "execution_count": 33,
     "metadata": {},
     "output_type": "execute_result"
    },
    {
     "data": {
      "image/png": "[encoded data removed]",
      "text/plain": [
       "<Figure size 864x432 with 1 Axes>"
      ]
     },
     "metadata": {
      "needs_background": "light"
     },
     "output_type": "display_data"
    }
   ],
   "source": [
    "plt.figure(figsize=(12,6))\n",
    "plt.title('Preço dos Combustíveis ao Passar dos Anos no Estado de SP')\n",
    "plt.xlabel('Ano')\n",
    "plt.ylabel('Média do Preço')\n",
    "plt.plot( mean_comb_per_yearSP.ano, mean_comb_per_yearSP.preco_venda)"
   ]
  },
  {
   "cell_type": "markdown",
   "metadata": {},
   "source": [
    "E novamente, observamos o crescimento do preço mas agora focado no estado de São Paulo\n",
    "\n",
    "É possivel observar que dos anos 2012 à 2014 teve uma certa estabilidade no preço, e a mesma coisa aconteceu de 2018 à 2020, com preços mais elevados e estabilizados por assim dizer"
   ]
  },
  {
   "cell_type": "code",
   "execution_count": 34,
   "metadata": {},
   "outputs": [
    {
     "data": {
      "text/html": [
       "<div>\n",
       "<style scoped>\n",
       "    .dataframe tbody tr th:only-of-type {\n",
       "        vertical-align: middle;\n",
       "    }\n",
       "\n",
       "    .dataframe tbody tr th {\n",
       "        vertical-align: top;\n",
       "    }\n",
       "\n",
       "    .dataframe thead th {\n",
       "        text-align: right;\n",
       "    }\n",
       "</style>\n",
       "<table border=\"1\" class=\"dataframe\">\n",
       "  <thead>\n",
       "    <tr style=\"text-align: right;\">\n",
       "      <th></th>\n",
       "      <th>ano</th>\n",
       "      <th>sigla_uf</th>\n",
       "      <th>id_municipio</th>\n",
       "      <th>bairro_revenda</th>\n",
       "      <th>cep_revenda</th>\n",
       "      <th>endereco_revenda</th>\n",
       "      <th>cnpj_revenda</th>\n",
       "      <th>nome_estabelecimento</th>\n",
       "      <th>bandeira_revenda</th>\n",
       "      <th>data_coleta</th>\n",
       "      <th>produto</th>\n",
       "      <th>unidade_medida</th>\n",
       "      <th>preco_venda</th>\n",
       "      <th>Regiao</th>\n",
       "    </tr>\n",
       "  </thead>\n",
       "  <tbody>\n",
       "    <tr>\n",
       "      <th>406741</th>\n",
       "      <td>2018</td>\n",
       "      <td>BA</td>\n",
       "      <td>2927408</td>\n",
       "      <td>STIEP</td>\n",
       "      <td>41770-395</td>\n",
       "      <td>RUA EDISTIO PONDE,474</td>\n",
       "      <td>34.274.233/0015-08</td>\n",
       "      <td>PETROBRAS DISTRIBUIDORA S.A.</td>\n",
       "      <td>PETROBRAS DISTRIBUIDORA S.A.</td>\n",
       "      <td>2018-01-02</td>\n",
       "      <td>gnv</td>\n",
       "      <td>R$/m3</td>\n",
       "      <td>2.370</td>\n",
       "      <td>Nordeste</td>\n",
       "    </tr>\n",
       "    <tr>\n",
       "      <th>406742</th>\n",
       "      <td>2018</td>\n",
       "      <td>SC</td>\n",
       "      <td>4205407</td>\n",
       "      <td>SACO GRANDE</td>\n",
       "      <td>88032-001</td>\n",
       "      <td>RODOVIA VIRGILIO VARZEA,3033</td>\n",
       "      <td>09.633.776/0001-13</td>\n",
       "      <td>COMERCIO DE COMBUSTIVEIS E DERIVADOS DE PETROL...</td>\n",
       "      <td>PETROBRAS DISTRIBUIDORA S.A.</td>\n",
       "      <td>2018-01-02</td>\n",
       "      <td>gnv</td>\n",
       "      <td>R$/m3</td>\n",
       "      <td>2.099</td>\n",
       "      <td>Sul</td>\n",
       "    </tr>\n",
       "    <tr>\n",
       "      <th>406743</th>\n",
       "      <td>2018</td>\n",
       "      <td>SC</td>\n",
       "      <td>4205407</td>\n",
       "      <td>CENTRO</td>\n",
       "      <td>88020-302</td>\n",
       "      <td>AVENIDA MAURO RAMOS,2010</td>\n",
       "      <td>00.108.775/0001-85</td>\n",
       "      <td>COLONIAL PRODUTOS E SERVICOS LTDA</td>\n",
       "      <td>IPIRANGA</td>\n",
       "      <td>2018-01-02</td>\n",
       "      <td>gnv</td>\n",
       "      <td>R$/m3</td>\n",
       "      <td>2.099</td>\n",
       "      <td>Sul</td>\n",
       "    </tr>\n",
       "    <tr>\n",
       "      <th>406744</th>\n",
       "      <td>2018</td>\n",
       "      <td>SC</td>\n",
       "      <td>4209102</td>\n",
       "      <td>SANTO ANTONIO</td>\n",
       "      <td>89218-112</td>\n",
       "      <td>RUA DONA FRANCISCA,4725</td>\n",
       "      <td>82.614.363/0001-81</td>\n",
       "      <td>AUTO POSTO SOUZA LTDA</td>\n",
       "      <td>REJAILE</td>\n",
       "      <td>2018-01-02</td>\n",
       "      <td>gnv</td>\n",
       "      <td>R$/m3</td>\n",
       "      <td>1.950</td>\n",
       "      <td>Sul</td>\n",
       "    </tr>\n",
       "    <tr>\n",
       "      <th>406745</th>\n",
       "      <td>2018</td>\n",
       "      <td>SC</td>\n",
       "      <td>4209102</td>\n",
       "      <td>BUCAREIN</td>\n",
       "      <td>89202-210</td>\n",
       "      <td>RUA PIAUI,480</td>\n",
       "      <td>05.659.692/0001-06</td>\n",
       "      <td>AUTO POSTO MONACO LTDA</td>\n",
       "      <td>IPIRANGA</td>\n",
       "      <td>2018-01-02</td>\n",
       "      <td>gnv</td>\n",
       "      <td>R$/m3</td>\n",
       "      <td>1.950</td>\n",
       "      <td>Sul</td>\n",
       "    </tr>\n",
       "    <tr>\n",
       "      <th>...</th>\n",
       "      <td>...</td>\n",
       "      <td>...</td>\n",
       "      <td>...</td>\n",
       "      <td>...</td>\n",
       "      <td>...</td>\n",
       "      <td>...</td>\n",
       "      <td>...</td>\n",
       "      <td>...</td>\n",
       "      <td>...</td>\n",
       "      <td>...</td>\n",
       "      <td>...</td>\n",
       "      <td>...</td>\n",
       "      <td>...</td>\n",
       "      <td>...</td>\n",
       "    </tr>\n",
       "    <tr>\n",
       "      <th>436358</th>\n",
       "      <td>2006</td>\n",
       "      <td>RJ</td>\n",
       "      <td>3304557</td>\n",
       "      <td>JACARE</td>\n",
       "      <td>20970-001</td>\n",
       "      <td>RUA LINO TEIXEIRA,247</td>\n",
       "      <td>42.223.123/0001-31</td>\n",
       "      <td>POSTO VIANENSE DE PETROLEO LTDA</td>\n",
       "      <td>RAIZEN</td>\n",
       "      <td>2006-01-24</td>\n",
       "      <td>gnv</td>\n",
       "      <td>R$/m3</td>\n",
       "      <td>1.139</td>\n",
       "      <td>None</td>\n",
       "    </tr>\n",
       "    <tr>\n",
       "      <th>436359</th>\n",
       "      <td>2006</td>\n",
       "      <td>RJ</td>\n",
       "      <td>3304557</td>\n",
       "      <td>TIJUCA</td>\n",
       "      <td>20260-300</td>\n",
       "      <td>RUA FELIX DA CUNHA,71</td>\n",
       "      <td>42.118.646/0001-18</td>\n",
       "      <td>POSTO DE GASOLINA E AUTO SERVICO FANTASMINHA LTDA</td>\n",
       "      <td>ALE COMBUSTÍVEIS</td>\n",
       "      <td>2006-01-24</td>\n",
       "      <td>gnv</td>\n",
       "      <td>R$/m3</td>\n",
       "      <td>1.139</td>\n",
       "      <td>None</td>\n",
       "    </tr>\n",
       "    <tr>\n",
       "      <th>436360</th>\n",
       "      <td>2006</td>\n",
       "      <td>RS</td>\n",
       "      <td>4309209</td>\n",
       "      <td>COHAB C</td>\n",
       "      <td>94030-001</td>\n",
       "      <td>AVENIDA DORIVAL CANDIDO LUZ DE OLIVEIRA,2029</td>\n",
       "      <td>96.735.022/0006-83</td>\n",
       "      <td>AUTO SERVICO LINDOLFO COLLOR LTDA</td>\n",
       "      <td>CBPI</td>\n",
       "      <td>2006-01-24</td>\n",
       "      <td>gnv</td>\n",
       "      <td>R$/m3</td>\n",
       "      <td>1.529</td>\n",
       "      <td>Sul</td>\n",
       "    </tr>\n",
       "    <tr>\n",
       "      <th>436361</th>\n",
       "      <td>2006</td>\n",
       "      <td>ES</td>\n",
       "      <td>3205309</td>\n",
       "      <td>JARDIM CAMBURI</td>\n",
       "      <td>29090-100</td>\n",
       "      <td>RUA GELU VERVLOET DOS SANTOS,1150</td>\n",
       "      <td>31.709.116/0001-28</td>\n",
       "      <td>POSTO CAMBURI DO GAS LTDA</td>\n",
       "      <td>PETROBRAS DISTRIBUIDORA S.A.</td>\n",
       "      <td>2006-01-24</td>\n",
       "      <td>gnv</td>\n",
       "      <td>R$/m3</td>\n",
       "      <td>1.200</td>\n",
       "      <td>Sudeste</td>\n",
       "    </tr>\n",
       "    <tr>\n",
       "      <th>436362</th>\n",
       "      <td>2006</td>\n",
       "      <td>ES</td>\n",
       "      <td>3205309</td>\n",
       "      <td>AEROPORTO</td>\n",
       "      <td>29160-700</td>\n",
       "      <td>AVENIDA JOSE MARIA VIVACQUA SANTOS,1675</td>\n",
       "      <td>02.922.895/0001-47</td>\n",
       "      <td>POSTO DE COMBUSTÍVEIS MIRANTE LTDA</td>\n",
       "      <td>IPIRANGA</td>\n",
       "      <td>2006-01-24</td>\n",
       "      <td>gnv</td>\n",
       "      <td>R$/m3</td>\n",
       "      <td>1.200</td>\n",
       "      <td>Sudeste</td>\n",
       "    </tr>\n",
       "  </tbody>\n",
       "</table>\n",
       "<p>29622 rows × 14 columns</p>\n",
       "</div>"
      ],
      "text/plain": [
       "         ano sigla_uf id_municipio  bairro_revenda cep_revenda  \\\n",
       "406741  2018       BA      2927408           STIEP   41770-395   \n",
       "406742  2018       SC      4205407     SACO GRANDE   88032-001   \n",
       "406743  2018       SC      4205407          CENTRO   88020-302   \n",
       "406744  2018       SC      4209102   SANTO ANTONIO   89218-112   \n",
       "406745  2018       SC      4209102        BUCAREIN   89202-210   \n",
       "...      ...      ...          ...             ...         ...   \n",
       "436358  2006       RJ      3304557          JACARE   20970-001   \n",
       "436359  2006       RJ      3304557          TIJUCA   20260-300   \n",
       "436360  2006       RS      4309209         COHAB C   94030-001   \n",
       "436361  2006       ES      3205309  JARDIM CAMBURI   29090-100   \n",
       "436362  2006       ES      3205309       AEROPORTO   29160-700   \n",
       "\n",
       "                                     endereco_revenda         cnpj_revenda  \\\n",
       "406741                         RUA EDISTIO PONDE,474    34.274.233/0015-08   \n",
       "406742                  RODOVIA VIRGILIO VARZEA,3033    09.633.776/0001-13   \n",
       "406743                      AVENIDA MAURO RAMOS,2010    00.108.775/0001-85   \n",
       "406744                       RUA DONA FRANCISCA,4725    82.614.363/0001-81   \n",
       "406745                                 RUA PIAUI,480    05.659.692/0001-06   \n",
       "...                                               ...                  ...   \n",
       "436358                         RUA LINO TEIXEIRA,247    42.223.123/0001-31   \n",
       "436359                         RUA FELIX DA CUNHA,71    42.118.646/0001-18   \n",
       "436360  AVENIDA DORIVAL CANDIDO LUZ DE OLIVEIRA,2029    96.735.022/0006-83   \n",
       "436361             RUA GELU VERVLOET DOS SANTOS,1150    31.709.116/0001-28   \n",
       "436362       AVENIDA JOSE MARIA VIVACQUA SANTOS,1675    02.922.895/0001-47   \n",
       "\n",
       "                                     nome_estabelecimento  \\\n",
       "406741                       PETROBRAS DISTRIBUIDORA S.A.   \n",
       "406742  COMERCIO DE COMBUSTIVEIS E DERIVADOS DE PETROL...   \n",
       "406743                  COLONIAL PRODUTOS E SERVICOS LTDA   \n",
       "406744                              AUTO POSTO SOUZA LTDA   \n",
       "406745                             AUTO POSTO MONACO LTDA   \n",
       "...                                                   ...   \n",
       "436358                    POSTO VIANENSE DE PETROLEO LTDA   \n",
       "436359  POSTO DE GASOLINA E AUTO SERVICO FANTASMINHA LTDA   \n",
       "436360                  AUTO SERVICO LINDOLFO COLLOR LTDA   \n",
       "436361                          POSTO CAMBURI DO GAS LTDA   \n",
       "436362                 POSTO DE COMBUSTÍVEIS MIRANTE LTDA   \n",
       "\n",
       "                    bandeira_revenda data_coleta produto unidade_medida  \\\n",
       "406741  PETROBRAS DISTRIBUIDORA S.A.  2018-01-02     gnv          R$/m3   \n",
       "406742  PETROBRAS DISTRIBUIDORA S.A.  2018-01-02     gnv          R$/m3   \n",
       "406743                      IPIRANGA  2018-01-02     gnv          R$/m3   \n",
       "406744                       REJAILE  2018-01-02     gnv          R$/m3   \n",
       "406745                      IPIRANGA  2018-01-02     gnv          R$/m3   \n",
       "...                              ...         ...     ...            ...   \n",
       "436358                        RAIZEN  2006-01-24     gnv          R$/m3   \n",
       "436359              ALE COMBUSTÍVEIS  2006-01-24     gnv          R$/m3   \n",
       "436360                          CBPI  2006-01-24     gnv          R$/m3   \n",
       "436361  PETROBRAS DISTRIBUIDORA S.A.  2006-01-24     gnv          R$/m3   \n",
       "436362                      IPIRANGA  2006-01-24     gnv          R$/m3   \n",
       "\n",
       "        preco_venda    Regiao  \n",
       "406741        2.370  Nordeste  \n",
       "406742        2.099       Sul  \n",
       "406743        2.099       Sul  \n",
       "406744        1.950       Sul  \n",
       "406745        1.950       Sul  \n",
       "...             ...       ...  \n",
       "436358        1.139      None  \n",
       "436359        1.139      None  \n",
       "436360        1.529       Sul  \n",
       "436361        1.200   Sudeste  \n",
       "436362        1.200   Sudeste  \n",
       "\n",
       "[29622 rows x 14 columns]"
      ]
     },
     "execution_count": 34,
     "metadata": {},
     "output_type": "execute_result"
    }
   ],
   "source": [
    "# Agora filtramos os dados onde é vendido ou comprar por metros cubicos\n",
    "dfm3 = df.query('unidade_medida==\"R$/m3\"')\n",
    "dfm3"
   ]
  },
  {
   "cell_type": "code",
   "execution_count": 35,
   "metadata": {},
   "outputs": [
    {
     "data": {
      "text/plain": [
       "array(['gnv'], dtype=object)"
      ]
     },
     "execution_count": 35,
     "metadata": {},
     "output_type": "execute_result"
    }
   ],
   "source": [
    "# E podemos observar que somente o gnv é vendido nessas condiçoes\n",
    "dfm3.produto.unique()"
   ]
  },
  {
   "cell_type": "code",
   "execution_count": 36,
   "metadata": {},
   "outputs": [
    {
     "data": {
      "text/html": [
       "<div>\n",
       "<style scoped>\n",
       "    .dataframe tbody tr th:only-of-type {\n",
       "        vertical-align: middle;\n",
       "    }\n",
       "\n",
       "    .dataframe tbody tr th {\n",
       "        vertical-align: top;\n",
       "    }\n",
       "\n",
       "    .dataframe thead th {\n",
       "        text-align: right;\n",
       "    }\n",
       "</style>\n",
       "<table border=\"1\" class=\"dataframe\">\n",
       "  <thead>\n",
       "    <tr style=\"text-align: right;\">\n",
       "      <th></th>\n",
       "      <th>ano</th>\n",
       "      <th>sigla_uf</th>\n",
       "      <th>id_municipio</th>\n",
       "      <th>bairro_revenda</th>\n",
       "      <th>cep_revenda</th>\n",
       "      <th>endereco_revenda</th>\n",
       "      <th>cnpj_revenda</th>\n",
       "      <th>nome_estabelecimento</th>\n",
       "      <th>bandeira_revenda</th>\n",
       "      <th>data_coleta</th>\n",
       "      <th>produto</th>\n",
       "      <th>unidade_medida</th>\n",
       "      <th>preco_venda</th>\n",
       "      <th>Regiao</th>\n",
       "    </tr>\n",
       "  </thead>\n",
       "  <tbody>\n",
       "    <tr>\n",
       "      <th>2130</th>\n",
       "      <td>2018</td>\n",
       "      <td>SC</td>\n",
       "      <td>4205407</td>\n",
       "      <td>JOAO PAULO</td>\n",
       "      <td>88030-300</td>\n",
       "      <td>RODOVIA JOAO PAULO,305</td>\n",
       "      <td>07.152.185/0001-07</td>\n",
       "      <td>DIEGO MENA MACUCO</td>\n",
       "      <td>BRANCA</td>\n",
       "      <td>2018-01-02</td>\n",
       "      <td>glp</td>\n",
       "      <td>R$/13kg</td>\n",
       "      <td>70.0</td>\n",
       "      <td>Sul</td>\n",
       "    </tr>\n",
       "    <tr>\n",
       "      <th>2131</th>\n",
       "      <td>2018</td>\n",
       "      <td>SC</td>\n",
       "      <td>4205407</td>\n",
       "      <td>TRINDADE</td>\n",
       "      <td>88036-400</td>\n",
       "      <td>RUA  LUIZ OSCAR DE CARVALHO,128</td>\n",
       "      <td>08.067.561/0001-10</td>\n",
       "      <td>VALDINEI PORFIRIO ME</td>\n",
       "      <td>BRANCA</td>\n",
       "      <td>2018-01-02</td>\n",
       "      <td>glp</td>\n",
       "      <td>R$/13kg</td>\n",
       "      <td>60.0</td>\n",
       "      <td>Sul</td>\n",
       "    </tr>\n",
       "    <tr>\n",
       "      <th>2132</th>\n",
       "      <td>2018</td>\n",
       "      <td>SC</td>\n",
       "      <td>4205407</td>\n",
       "      <td>SACO DOS LIMOES</td>\n",
       "      <td>88045-600</td>\n",
       "      <td>RUA ALDO ALVES,167</td>\n",
       "      <td>06.087.004/0001-35</td>\n",
       "      <td>XANDE COMERCIO DE AGUA E GAS LTDA ME</td>\n",
       "      <td>BRANCA</td>\n",
       "      <td>2018-01-02</td>\n",
       "      <td>glp</td>\n",
       "      <td>R$/13kg</td>\n",
       "      <td>65.0</td>\n",
       "      <td>Sul</td>\n",
       "    </tr>\n",
       "    <tr>\n",
       "      <th>2133</th>\n",
       "      <td>2018</td>\n",
       "      <td>SC</td>\n",
       "      <td>4205407</td>\n",
       "      <td>RIO TAVARES</td>\n",
       "      <td>88048-300</td>\n",
       "      <td>RODOVIA DOUTOR ANTONIO LUIZ MOURA GONZAGA,3976</td>\n",
       "      <td>14.001.591/0001-26</td>\n",
       "      <td>PORTO GÁS LTDA</td>\n",
       "      <td>BRANCA</td>\n",
       "      <td>2018-01-02</td>\n",
       "      <td>glp</td>\n",
       "      <td>R$/13kg</td>\n",
       "      <td>65.0</td>\n",
       "      <td>Sul</td>\n",
       "    </tr>\n",
       "    <tr>\n",
       "      <th>2134</th>\n",
       "      <td>2018</td>\n",
       "      <td>SC</td>\n",
       "      <td>4205407</td>\n",
       "      <td>RIO TAVARES</td>\n",
       "      <td>88048-301</td>\n",
       "      <td>RODOVIA DOUTOR ANTONIO LUIZ MOURA GONZAGA,2316</td>\n",
       "      <td>18.226.372/0001-04</td>\n",
       "      <td>MAGALHÃES &amp; DIAS COMERCIO LTDA - EPP</td>\n",
       "      <td>BRANCA</td>\n",
       "      <td>2018-01-02</td>\n",
       "      <td>glp</td>\n",
       "      <td>R$/13kg</td>\n",
       "      <td>64.0</td>\n",
       "      <td>Sul</td>\n",
       "    </tr>\n",
       "  </tbody>\n",
       "</table>\n",
       "</div>"
      ],
      "text/plain": [
       "       ano sigla_uf id_municipio   bairro_revenda cep_revenda  \\\n",
       "2130  2018       SC      4205407       JOAO PAULO   88030-300   \n",
       "2131  2018       SC      4205407         TRINDADE   88036-400   \n",
       "2132  2018       SC      4205407  SACO DOS LIMOES   88045-600   \n",
       "2133  2018       SC      4205407      RIO TAVARES   88048-300   \n",
       "2134  2018       SC      4205407      RIO TAVARES   88048-301   \n",
       "\n",
       "                                     endereco_revenda         cnpj_revenda  \\\n",
       "2130                          RODOVIA JOAO PAULO,305    07.152.185/0001-07   \n",
       "2131                 RUA  LUIZ OSCAR DE CARVALHO,128    08.067.561/0001-10   \n",
       "2132                              RUA ALDO ALVES,167    06.087.004/0001-35   \n",
       "2133  RODOVIA DOUTOR ANTONIO LUIZ MOURA GONZAGA,3976    14.001.591/0001-26   \n",
       "2134  RODOVIA DOUTOR ANTONIO LUIZ MOURA GONZAGA,2316    18.226.372/0001-04   \n",
       "\n",
       "                      nome_estabelecimento bandeira_revenda data_coleta  \\\n",
       "2130                     DIEGO MENA MACUCO           BRANCA  2018-01-02   \n",
       "2131                  VALDINEI PORFIRIO ME           BRANCA  2018-01-02   \n",
       "2132  XANDE COMERCIO DE AGUA E GAS LTDA ME           BRANCA  2018-01-02   \n",
       "2133                        PORTO GÁS LTDA           BRANCA  2018-01-02   \n",
       "2134  MAGALHÃES & DIAS COMERCIO LTDA - EPP           BRANCA  2018-01-02   \n",
       "\n",
       "     produto unidade_medida  preco_venda Regiao  \n",
       "2130     glp        R$/13kg         70.0    Sul  \n",
       "2131     glp        R$/13kg         60.0    Sul  \n",
       "2132     glp        R$/13kg         65.0    Sul  \n",
       "2133     glp        R$/13kg         65.0    Sul  \n",
       "2134     glp        R$/13kg         64.0    Sul  "
      ]
     },
     "execution_count": 36,
     "metadata": {},
     "output_type": "execute_result"
    }
   ],
   "source": [
    "# Novamente filtrando os dados onde a unidade de medida de compra ou venda usada é R$/13kg\n",
    "df13kg = df.query('unidade_medida==\"R$/13kg\"')\n",
    "df13kg.head(5)"
   ]
  },
  {
   "cell_type": "code",
   "execution_count": 37,
   "metadata": {
    "scrolled": true
   },
   "outputs": [
    {
     "data": {
      "text/plain": [
       "array(['glp'], dtype=object)"
      ]
     },
     "execution_count": 37,
     "metadata": {},
     "output_type": "execute_result"
    }
   ],
   "source": [
    "# E como foi visto com o gnv, somente o glp ou Gás de Cozinha é vendido nessas condições \n",
    "df13kg.produto.unique()"
   ]
  },
  {
   "cell_type": "code",
   "execution_count": 38,
   "metadata": {},
   "outputs": [
    {
     "data": {
      "text/html": [
       "<div>\n",
       "<style scoped>\n",
       "    .dataframe tbody tr th:only-of-type {\n",
       "        vertical-align: middle;\n",
       "    }\n",
       "\n",
       "    .dataframe tbody tr th {\n",
       "        vertical-align: top;\n",
       "    }\n",
       "\n",
       "    .dataframe thead th {\n",
       "        text-align: right;\n",
       "    }\n",
       "</style>\n",
       "<table border=\"1\" class=\"dataframe\">\n",
       "  <thead>\n",
       "    <tr style=\"text-align: right;\">\n",
       "      <th></th>\n",
       "      <th>ano</th>\n",
       "      <th>preco_venda</th>\n",
       "      <th>CrescimentoAnual</th>\n",
       "    </tr>\n",
       "  </thead>\n",
       "  <tbody>\n",
       "    <tr>\n",
       "      <th>0</th>\n",
       "      <td>2004</td>\n",
       "      <td>30.331737</td>\n",
       "      <td>NaN</td>\n",
       "    </tr>\n",
       "    <tr>\n",
       "      <th>1</th>\n",
       "      <td>2005</td>\n",
       "      <td>30.333365</td>\n",
       "      <td>0.000054</td>\n",
       "    </tr>\n",
       "    <tr>\n",
       "      <th>2</th>\n",
       "      <td>2006</td>\n",
       "      <td>30.943161</td>\n",
       "      <td>0.020103</td>\n",
       "    </tr>\n",
       "    <tr>\n",
       "      <th>3</th>\n",
       "      <td>2008</td>\n",
       "      <td>33.257369</td>\n",
       "      <td>0.074789</td>\n",
       "    </tr>\n",
       "    <tr>\n",
       "      <th>4</th>\n",
       "      <td>2009</td>\n",
       "      <td>33.767193</td>\n",
       "      <td>0.015330</td>\n",
       "    </tr>\n",
       "    <tr>\n",
       "      <th>5</th>\n",
       "      <td>2010</td>\n",
       "      <td>38.618531</td>\n",
       "      <td>0.143670</td>\n",
       "    </tr>\n",
       "    <tr>\n",
       "      <th>6</th>\n",
       "      <td>2012</td>\n",
       "      <td>39.490436</td>\n",
       "      <td>0.022577</td>\n",
       "    </tr>\n",
       "    <tr>\n",
       "      <th>7</th>\n",
       "      <td>2013</td>\n",
       "      <td>40.692790</td>\n",
       "      <td>0.030447</td>\n",
       "    </tr>\n",
       "    <tr>\n",
       "      <th>8</th>\n",
       "      <td>2014</td>\n",
       "      <td>42.919307</td>\n",
       "      <td>0.054715</td>\n",
       "    </tr>\n",
       "    <tr>\n",
       "      <th>9</th>\n",
       "      <td>2018</td>\n",
       "      <td>68.064364</td>\n",
       "      <td>0.585868</td>\n",
       "    </tr>\n",
       "    <tr>\n",
       "      <th>10</th>\n",
       "      <td>2019</td>\n",
       "      <td>70.141223</td>\n",
       "      <td>0.030513</td>\n",
       "    </tr>\n",
       "    <tr>\n",
       "      <th>11</th>\n",
       "      <td>2020</td>\n",
       "      <td>70.685574</td>\n",
       "      <td>0.007761</td>\n",
       "    </tr>\n",
       "  </tbody>\n",
       "</table>\n",
       "</div>"
      ],
      "text/plain": [
       "     ano  preco_venda  CrescimentoAnual\n",
       "0   2004    30.331737               NaN\n",
       "1   2005    30.333365          0.000054\n",
       "2   2006    30.943161          0.020103\n",
       "3   2008    33.257369          0.074789\n",
       "4   2009    33.767193          0.015330\n",
       "5   2010    38.618531          0.143670\n",
       "6   2012    39.490436          0.022577\n",
       "7   2013    40.692790          0.030447\n",
       "8   2014    42.919307          0.054715\n",
       "9   2018    68.064364          0.585868\n",
       "10  2019    70.141223          0.030513\n",
       "11  2020    70.685574          0.007761"
      ]
     },
     "execution_count": 38,
     "metadata": {},
     "output_type": "execute_result"
    }
   ],
   "source": [
    "# E como fizemos anteriormente, agora iremos ver o percentual do Crescimento do Preço do Gás de Cozinha \n",
    "Gas_Cozinha_mean_preco = df13kg.groupby('ano').mean('preco_venda').reset_index()\n",
    "Gas_Cozinha_mean_preco['CrescimentoAnual'] = Gas_Cozinha_mean_preco.preco_venda.pct_change()\n",
    "Gas_Cozinha_mean_preco"
   ]
  },
  {
   "cell_type": "markdown",
   "metadata": {},
   "source": [
    "E como podemos observar atualmente, o preço do Gás está bem elevado, com uma média de R$70 e isso se deve ao custo do petróleo no mercado internacional, que é negociado em dólar. Com o preço do petróleo e a cotação do dólar nas alturas, o gás acaba encarecendo também."
   ]
  },
  {
   "cell_type": "code",
   "execution_count": 39,
   "metadata": {},
   "outputs": [
    {
     "data": {
      "text/plain": [
       "[<matplotlib.lines.Line2D at 0x258878ca880>]"
      ]
     },
     "execution_count": 39,
     "metadata": {},
     "output_type": "execute_result"
    },
    {
     "data": {
      "image/png": "[encoded data removed]",
      "text/plain": [
       "<Figure size 864x432 with 1 Axes>"
      ]
     },
     "metadata": {
      "needs_background": "light"
     },
     "output_type": "display_data"
    }
   ],
   "source": [
    "plt.figure(figsize=(12,6))\n",
    "plt.title('Preço do Gás de Cozinha no Passar dos Anos')\n",
    "plt.xlabel('Ano')\n",
    "plt.ylabel('Média do Preço')\n",
    "plt.plot( Gas_Cozinha_mean_preco.ano, Gas_Cozinha_mean_preco.preco_venda)"
   ]
  },
  {
   "cell_type": "markdown",
   "metadata": {},
   "source": [
    "E como vimos com todos os combustiveis em geral, o preço do gás de cozinha também sofreu um reajusto como não há dados de 2016, 17, 18, não é possível análisar o que poderia ter colaborado com o aumento do preço do gás, além a influência do dolar"
   ]
  },
  {
   "cell_type": "markdown",
   "metadata": {},
   "source": [
    "## Conclusão\n",
    "\n",
    "- Pudemos observar que com o passar dos anos, o aumento da demanda em diversas regiões do país, tendo como possível motivo o aumento populacional e o aumento do poder de compra de veículos (quando referido a combustível). Consequentemente através da demanda, o valor de redistribuição e venda se elevou, influenciando-se também por questões econômicas internacionais.\n",
    "- Em todos os dados, pudemos constatar significantes aumentos dentre os períodos de 2008 e 2010, nos quais são períodos que se destacam com o aumento acima da média. Anos posteriores, seguiram a influencia de crescimento tanto em questão de demanda, quanto de venda."
   ]
  }
 ],
 "metadata": {
  "kernelspec": {
   "display_name": "Python 3",
   "language": "python",
   "name": "python3"
  },
  "language_info": {
   "codemirror_mode": {
    "name": "ipython",
    "version": 3
   },
   "file_extension": ".py",
   "mimetype": "text/x-python",
   "name": "python",
   "nbconvert_exporter": "python",
   "pygments_lexer": "ipython3",
   "version": "3.8.3"
  }
 },
 "nbformat": 4,
 "nbformat_minor": 4
}
